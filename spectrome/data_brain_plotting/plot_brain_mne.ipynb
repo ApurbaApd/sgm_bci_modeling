{
 "cells": [
  {
   "cell_type": "code",
   "execution_count": 1,
   "metadata": {},
   "outputs": [],
   "source": [
    "import xarray as xr\n",
    "import mne\n",
    "import matplotlib.pyplot as plt\n",
    "from mne.viz import plot_brain_colorbar\n",
    "from mne.viz import Brain\n",
    "from mne.datasets import fetch_fsaverage\n",
    "import os.path as op\n",
    "from matplotlib.cm import get_cmap\n",
    "from matplotlib.colors import Normalize\n",
    "from matplotlib import colormaps as cmaps\n",
    "\n",
    "import numpy as np\n"
   ]
  },
  {
   "cell_type": "code",
   "execution_count": 2,
   "metadata": {},
   "outputs": [],
   "source": [
    "# pip install netCDF4 h5netcdf\n",
    "# !pip install pyvistaqt ipywidgets\n"
   ]
  },
  {
   "cell_type": "code",
   "execution_count": 3,
   "metadata": {},
   "outputs": [],
   "source": [
    "data_xr = xr.open_dataarray(\"individual_psd_reordered_matlab.nc\")\n",
    "psd = data_xr.values\n",
    "regions = data_xr[\"regionx\"].values"
   ]
  },
  {
   "cell_type": "code",
   "execution_count": 4,
   "metadata": {},
   "outputs": [
    {
     "data": {
      "text/plain": [
       "(68, 40, 36)"
      ]
     },
     "execution_count": 4,
     "metadata": {},
     "output_type": "execute_result"
    }
   ],
   "source": [
    "psd.shape"
   ]
  },
  {
   "cell_type": "code",
   "execution_count": 5,
   "metadata": {},
   "outputs": [
    {
     "data": {
      "text/plain": [
       "array(['LHbankssts', 'LHcaudalanteriorcingulate', 'LHcaudalmiddlefrontal',\n",
       "       'LHcuneus', 'LHentorhinal', 'LHfusiform', 'LHinferiorparietal',\n",
       "       'LHinferiortemporal', 'LHisthmuscingulate', 'LHlateraloccipital',\n",
       "       'LHlateralorbitofrontal', 'LHlingual', 'LHmedialorbitofrontal',\n",
       "       'LHmiddletemporal', 'LHparahippocampal', 'LHparacentral',\n",
       "       'LHparsopercularis', 'LHparsorbitalis', 'LHparstriangularis',\n",
       "       'LHpericalcarine', 'LHpostcentral', 'LHposteriorcingulate',\n",
       "       'LHprecentral', 'LHprecuneus', 'LHrostralanteriorcingulate',\n",
       "       'LHrostralmiddlefrontal', 'LHsuperiorfrontal',\n",
       "       'LHsuperiorparietal', 'LHsuperiortemporal', 'LHsupramarginal',\n",
       "       'LHfrontalpole', 'LHtemporalpole', 'LHtransversetemporal',\n",
       "       'LHinsula', 'RHbankssts', 'RHcaudalanteriorcingulate',\n",
       "       'RHcaudalmiddlefrontal', 'RHcuneus', 'RHentorhinal', 'RHfusiform',\n",
       "       'RHinferiorparietal', 'RHinferiortemporal', 'RHisthmuscingulate',\n",
       "       'RHlateraloccipital', 'RHlateralorbitofrontal', 'RHlingual',\n",
       "       'RHmedialorbitofrontal', 'RHmiddletemporal', 'RHparahippocampal',\n",
       "       'RHparacentral', 'RHparsopercularis', 'RHparsorbitalis',\n",
       "       'RHparstriangularis', 'RHpericalcarine', 'RHpostcentral',\n",
       "       'RHposteriorcingulate', 'RHprecentral', 'RHprecuneus',\n",
       "       'RHrostralanteriorcingulate', 'RHrostralmiddlefrontal',\n",
       "       'RHsuperiorfrontal', 'RHsuperiorparietal', 'RHsuperiortemporal',\n",
       "       'RHsupramarginal', 'RHfrontalpole', 'RHtemporalpole',\n",
       "       'RHtransversetemporal', 'RHinsula'], dtype='<U26')"
      ]
     },
     "execution_count": 5,
     "metadata": {},
     "output_type": "execute_result"
    }
   ],
   "source": [
    "regions"
   ]
  },
  {
   "cell_type": "code",
   "execution_count": 6,
   "metadata": {},
   "outputs": [],
   "source": [
    "# regions[i][0:2]"
   ]
  },
  {
   "cell_type": "code",
   "execution_count": 7,
   "metadata": {},
   "outputs": [],
   "source": [
    "regions_mne = []\n",
    "count = 0\n",
    "\n",
    "for i in range(len(regions)):\n",
    "    if regions[i][0:2] == 'LH':\n",
    "        regionname = regions[i][2:]\n",
    "        regions_mne.append(regionname + '-lh')\n",
    "\n",
    "    if regions[i][0:2] == 'RH':\n",
    "        regionname = regions[i][2:]\n",
    "        regions_mne.append(regionname + '-rh')\n"
   ]
  },
  {
   "cell_type": "code",
   "execution_count": 8,
   "metadata": {},
   "outputs": [
    {
     "data": {
      "text/plain": [
       "68"
      ]
     },
     "execution_count": 8,
     "metadata": {},
     "output_type": "execute_result"
    }
   ],
   "source": [
    "len(regions_mne)"
   ]
  },
  {
   "cell_type": "code",
   "execution_count": 9,
   "metadata": {},
   "outputs": [
    {
     "name": "stdout",
     "output_type": "stream",
     "text": [
      "0 files missing from root.txt in C:\\Users\\Apurba\\mne_data\\MNE-fsaverage-data\n",
      "0 files missing from bem.txt in C:\\Users\\Apurba\\mne_data\\MNE-fsaverage-data\\fsaverage\n",
      "    Reading a source space...\n",
      "    [done]\n",
      "    Reading a source space...\n",
      "    [done]\n",
      "    2 source spaces read\n",
      "Reading labels from parcellation...\n",
      "   read 35 labels from C:\\Users\\Apurba\\mne_data\\MNE-fsaverage-data\\fsaverage\\label\\lh.aparc.annot\n",
      "   read 34 labels from C:\\Users\\Apurba\\mne_data\\MNE-fsaverage-data\\fsaverage\\label\\rh.aparc.annot\n"
     ]
    },
    {
     "name": "stderr",
     "output_type": "stream",
     "text": [
      "c:\\Users\\Apurba\\anaconda3\\Lib\\site-packages\\paramiko\\transport.py:219: CryptographyDeprecationWarning: Blowfish has been deprecated and will be removed in a future release\n",
      "  \"class\": algorithms.Blowfish,\n"
     ]
    }
   ],
   "source": [
    "# Fetch fsaverage dataset\n",
    "fs_dir = fetch_fsaverage(verbose=True)\n",
    "subjects_dir = op.dirname(fs_dir)\n",
    "\n",
    "# Load fsaverage subject details\n",
    "subject = \"fsaverage\"\n",
    "trans = \"fsaverage\"  # Built-in fsaverage transformation in MNE\n",
    "src_fname = op.join(fs_dir, \"bem\", \"fsaverage-ico-5-src.fif\")\n",
    "\n",
    "# Read source spaces\n",
    "src = mne.read_source_spaces(src_fname)\n",
    "\n",
    "# Load labels from the fsaverage atlas\n",
    "labels = mne.read_labels_from_annot(subject, parc=\"aparc\", subjects_dir=subjects_dir)"
   ]
  },
  {
   "cell_type": "code",
   "execution_count": 10,
   "metadata": {},
   "outputs": [
    {
     "data": {
      "text/plain": [
       "[<Label | fsaverage, 'bankssts-lh', lh : 2137 vertices>,\n",
       " <Label | fsaverage, 'bankssts-rh', rh : 2196 vertices>,\n",
       " <Label | fsaverage, 'caudalanteriorcingulate-lh', lh : 1439 vertices>,\n",
       " <Label | fsaverage, 'caudalanteriorcingulate-rh', rh : 1608 vertices>,\n",
       " <Label | fsaverage, 'caudalmiddlefrontal-lh', lh : 3736 vertices>,\n",
       " <Label | fsaverage, 'caudalmiddlefrontal-rh', rh : 3494 vertices>,\n",
       " <Label | fsaverage, 'cuneus-lh', lh : 1630 vertices>,\n",
       " <Label | fsaverage, 'cuneus-rh', rh : 1638 vertices>,\n",
       " <Label | fsaverage, 'entorhinal-lh', lh : 1102 vertices>,\n",
       " <Label | fsaverage, 'entorhinal-rh', rh : 902 vertices>,\n",
       " <Label | fsaverage, 'frontalpole-lh', lh : 272 vertices>,\n",
       " <Label | fsaverage, 'frontalpole-rh', rh : 369 vertices>,\n",
       " <Label | fsaverage, 'fusiform-lh', lh : 4714 vertices>,\n",
       " <Label | fsaverage, 'fusiform-rh', rh : 4661 vertices>,\n",
       " <Label | fsaverage, 'inferiorparietal-lh', lh : 7871 vertices>,\n",
       " <Label | fsaverage, 'inferiorparietal-rh', rh : 9676 vertices>,\n",
       " <Label | fsaverage, 'inferiortemporal-lh', lh : 4415 vertices>,\n",
       " <Label | fsaverage, 'inferiortemporal-rh', rh : 4198 vertices>,\n",
       " <Label | fsaverage, 'insula-lh', lh : 5229 vertices>,\n",
       " <Label | fsaverage, 'insula-rh', rh : 5090 vertices>,\n",
       " <Label | fsaverage, 'isthmuscingulate-lh', lh : 2531 vertices>,\n",
       " <Label | fsaverage, 'isthmuscingulate-rh', rh : 2388 vertices>,\n",
       " <Label | fsaverage, 'lateraloccipital-lh', lh : 6379 vertices>,\n",
       " <Label | fsaverage, 'lateraloccipital-rh', rh : 5963 vertices>,\n",
       " <Label | fsaverage, 'lateralorbitofrontal-lh', lh : 4188 vertices>,\n",
       " <Label | fsaverage, 'lateralorbitofrontal-rh', rh : 4354 vertices>,\n",
       " <Label | fsaverage, 'lingual-lh', lh : 4205 vertices>,\n",
       " <Label | fsaverage, 'lingual-rh', rh : 3894 vertices>,\n",
       " <Label | fsaverage, 'medialorbitofrontal-lh', lh : 2653 vertices>,\n",
       " <Label | fsaverage, 'medialorbitofrontal-rh', rh : 2801 vertices>,\n",
       " <Label | fsaverage, 'middletemporal-lh', lh : 4452 vertices>,\n",
       " <Label | fsaverage, 'middletemporal-rh', rh : 5057 vertices>,\n",
       " <Label | fsaverage, 'paracentral-lh', lh : 3294 vertices>,\n",
       " <Label | fsaverage, 'paracentral-rh', rh : 3831 vertices>,\n",
       " <Label | fsaverage, 'parahippocampal-lh', lh : 1838 vertices>,\n",
       " <Label | fsaverage, 'parahippocampal-rh', rh : 1742 vertices>,\n",
       " <Label | fsaverage, 'parsopercularis-lh', lh : 3119 vertices>,\n",
       " <Label | fsaverage, 'parsopercularis-rh', rh : 2472 vertices>,\n",
       " <Label | fsaverage, 'parsorbitalis-lh', lh : 956 vertices>,\n",
       " <Label | fsaverage, 'parsorbitalis-rh', rh : 946 vertices>,\n",
       " <Label | fsaverage, 'parstriangularis-lh', lh : 2046 vertices>,\n",
       " <Label | fsaverage, 'parstriangularis-rh', rh : 2380 vertices>,\n",
       " <Label | fsaverage, 'pericalcarine-lh', lh : 1912 vertices>,\n",
       " <Label | fsaverage, 'pericalcarine-rh', rh : 1823 vertices>,\n",
       " <Label | fsaverage, 'postcentral-lh', lh : 9519 vertices>,\n",
       " <Label | fsaverage, 'postcentral-rh', rh : 9138 vertices>,\n",
       " <Label | fsaverage, 'posteriorcingulate-lh', lh : 3266 vertices>,\n",
       " <Label | fsaverage, 'posteriorcingulate-rh', rh : 2994 vertices>,\n",
       " <Label | fsaverage, 'precentral-lh', lh : 10740 vertices>,\n",
       " <Label | fsaverage, 'precentral-rh', rh : 10705 vertices>,\n",
       " <Label | fsaverage, 'precuneus-lh', lh : 7308 vertices>,\n",
       " <Label | fsaverage, 'precuneus-rh', rh : 7975 vertices>,\n",
       " <Label | fsaverage, 'rostralanteriorcingulate-lh', lh : 1350 vertices>,\n",
       " <Label | fsaverage, 'rostralanteriorcingulate-rh', rh : 1051 vertices>,\n",
       " <Label | fsaverage, 'rostralmiddlefrontal-lh', lh : 7243 vertices>,\n",
       " <Label | fsaverage, 'rostralmiddlefrontal-rh', rh : 7864 vertices>,\n",
       " <Label | fsaverage, 'superiorfrontal-lh', lh : 12179 vertices>,\n",
       " <Label | fsaverage, 'superiorfrontal-rh', rh : 11878 vertices>,\n",
       " <Label | fsaverage, 'superiorparietal-lh', lh : 10456 vertices>,\n",
       " <Label | fsaverage, 'superiorparietal-rh', rh : 10222 vertices>,\n",
       " <Label | fsaverage, 'superiortemporal-lh', lh : 7271 vertices>,\n",
       " <Label | fsaverage, 'superiortemporal-rh', rh : 6868 vertices>,\n",
       " <Label | fsaverage, 'supramarginal-lh', lh : 8600 vertices>,\n",
       " <Label | fsaverage, 'supramarginal-rh', rh : 8150 vertices>,\n",
       " <Label | fsaverage, 'temporalpole-lh', lh : 839 vertices>,\n",
       " <Label | fsaverage, 'temporalpole-rh', rh : 817 vertices>,\n",
       " <Label | fsaverage, 'transversetemporal-lh', lh : 1064 vertices>,\n",
       " <Label | fsaverage, 'transversetemporal-rh', rh : 781 vertices>,\n",
       " <Label | fsaverage, 'unknown-lh', lh : 2 vertices>]"
      ]
     },
     "execution_count": 10,
     "metadata": {},
     "output_type": "execute_result"
    }
   ],
   "source": [
    "labels"
   ]
  },
  {
   "cell_type": "code",
   "execution_count": 11,
   "metadata": {},
   "outputs": [],
   "source": [
    "# regions_to_color = ['transversetemporal-lh']\n",
    "\n",
    "# regions_to_color = ['bankssts-lh', 'caudalanteriorcingulate-rh', 'caudalmiddlefrontal-lh', 'caudalmiddlefrontal-rh', 'cuneus-lh', 'cuneus-rh', 'entorhinal-rh', 'fusiform-lh', \n",
    "#                     'inferiortemporal-lh', 'middletemporal-lh', 'paracentral-lh', 'parsopercularis-lh', 'pericalcarine-lh', 'pericalcarine-rh', 'postcentral-lh', 'postcentral-rh', \n",
    "#                     'posteriorcingulate-rh', 'precentral-lh', 'precentral-rh', 'precuneus-rh', 'superiorfrontal-rh', 'superiortemporal-lh', 'supramarginal-lh', 'supramarginal-rh', \n",
    "#                     'transversetemporal-lh', 'transversetemporal-rh']\n",
    "\n",
    "# regions_to_color =  ['inferiorparietal-rh', 'lateraloccipital-lh', 'parsopercularis-lh', 'superiorparietal-rh']"
   ]
  },
  {
   "cell_type": "code",
   "execution_count": 12,
   "metadata": {},
   "outputs": [
    {
     "name": "stdout",
     "output_type": "stream",
     "text": [
      "Using pyvistaqt 3d backend.\n"
     ]
    }
   ],
   "source": [
    "## EEG\n",
    "##sess-4\n",
    "##g_ei\n",
    "# regions_to_color = ['cuneus-lh', 'cuneus-rh', 'inferiorparietal-lh', 'lateraloccipital-lh', 'precentral-lh']\n",
    "##g_ii\n",
    "# regions_to_color =['cuneus-lh', 'cuneus-rh', 'isthmuscingulate-lh', 'lingual-lh', 'parahippocampal-rh']\n",
    "##tau_e\n",
    "# regions_to_color =['supramarginal-rh']\n",
    "\n",
    "##sess-2\n",
    "##tau_e\n",
    "# regions_to_color=['cuneus-lh']\n",
    "\n",
    "\n",
    "## MEG\n",
    "##sess--4\n",
    "##gii\n",
    "# regions_to_color = ['postcentral-rh', 'transversetemporal-lh']\n",
    "\n",
    "##tau_e\n",
    "# regions_to_color = ['bankssts-lh', 'cuneus-lh', 'entorhinal-lh', 'inferiorparietal-lh', 'inferiorparietal-rh', 'isthmuscingulate-rh', 'paracentral-lh', 'paracentral-rh', 'pericalcarine-lh', \n",
    "#  'postcentral-lh', 'postcentral-rh', 'posteriorcingulate-lh', 'posteriorcingulate-rh', 'precentral-rh', 'precuneus-lh', \n",
    "#  'precuneus-rh', 'supramarginal-lh', 'supramarginal-rh', 'transversetemporal-lh']\n",
    "\n",
    "##sess-3\n",
    "##gii\n",
    "# regions_to_color =['inferiorparietal-lh', 'lateraloccipital-lh', 'posteriorcingulate-rh', 'rostralmiddlefrontal-lh', 'transversetemporal-lh', 'transversetemporal-rh']\n",
    "\n",
    "##tau_e\n",
    "# regions_to_color =  ['bankssts-lh', 'caudalmiddlefrontal-rh', 'cuneus-lh', 'cuneus-rh', 'inferiorparietal-lh', 'inferiortemporal-lh', 'parsopercularis-lh', 'pericalcarine-lh', \n",
    "#                      'postcentral-lh', 'postcentral-rh', 'posteriorcingulate-rh', 'precentral-lh', 'precentral-rh', 'superiorfrontal-lh', 'superiorparietal-lh', 'superiorparietal-rh', \n",
    "#                      'superiortemporal-rh', 'supramarginal-lh', 'supramarginal-rh', 'transversetemporal-lh', 'transversetemporal-rh']\n",
    "\n",
    "##sess-2\n",
    "##gii\n",
    "# regions_to_color =['transversetemporal-lh']\n",
    "\n",
    "##tau_e\n",
    "# regions_to_color=['cuneus-lh', 'cuneus-rh', 'fusiform-lh', 'insula-lh', 'lingual-rh', 'medialorbitofrontal-rh', 'paracentral-lh', 'parsopercularis-lh', 'parstriangularis-rh', \n",
    "#                      'pericalcarine-lh', 'pericalcarine-rh', 'postcentral-rh', 'posteriorcingulate-lh', 'precentral-rh', 'precuneus-rh', 'rostralanteriorcingulate-lh', 'superiorparietal-lh', \n",
    "#                      'supramarginal-rh', 'transversetemporal-lh', 'transversetemporal-rh']\n",
    "\n",
    "##sess-1\n",
    "##gii\n",
    "# regions_to_color = ['transversetemporal-lh']\n",
    "\n",
    "##tau_e\n",
    "# regions_to_color = ['bankssts-lh', 'caudalanteriorcingulate-rh', 'caudalmiddlefrontal-lh', 'caudalmiddlefrontal-rh', 'cuneus-lh', 'cuneus-rh', 'entorhinal-rh', 'fusiform-lh', \n",
    "#                     'inferiortemporal-lh', 'middletemporal-lh', 'paracentral-lh', 'parsopercularis-lh', 'pericalcarine-lh', 'pericalcarine-rh', 'postcentral-lh', 'postcentral-rh', \n",
    "#                     'posteriorcingulate-rh', 'precentral-lh', 'precentral-rh', 'precuneus-rh', 'superiorfrontal-rh', 'superiortemporal-lh', 'supramarginal-lh', 'supramarginal-rh', \n",
    "#                     'transversetemporal-lh', 'transversetemporal-rh']\n",
    "\n",
    "##gei\n",
    "# regions_to_color =  ['inferiorparietal-rh', 'lateraloccipital-lh', 'parsopercularis-lh', 'superiorparietal-rh']\n",
    "\n",
    "regions_to_color =['paracentral-rh']\n",
    "# Initialize Brain object\n",
    "brain = Brain(\n",
    "    subject=subject,\n",
    "    subjects_dir=subjects_dir,\n",
    "    surf=\"pial\",\n",
    "    hemi=\"split\",  \n",
    "    background=\"white\",\n",
    "    # views=[\"lat\", \"med\"],\n",
    "    views=[\"dorsal\"],\n",
    "    size=(600, 600),\n",
    "    # offset='auto',\n",
    "    # view_layout='horizontal',\n",
    "    # show=False, \n",
    ")\n",
    "\n",
    "# 'dorsal', 'ventral', 'lat', 'medial', etc.)\n",
    "# views = 'medial'  # For example, 'lat' (lateral) view\n",
    "# brain.show_view(view=views)\n",
    "\n",
    "red_color = (1, 0, 0)  # RGB for red\n",
    "\n",
    "\n",
    "for label in labels:\n",
    "    if label.name in regions_to_color:  # Only color the specified regions\n",
    "        brain.add_label(label, color=red_color)  # Set color to red\n",
    "\n",
    "# brain visualization\n",
    "brain.show()\n",
    "# brain.save_image(\"no_region.png\")"
   ]
  },
  {
   "cell_type": "code",
   "execution_count": null,
   "metadata": {},
   "outputs": [],
   "source": [
    "# ##independent data\n",
    "##gii\n",
    "##p<0.05\n",
    "#-rhegions_to_color =['bankssts-lh', 'caudalanteriorcingulate-lh', 'caudalanteriorcingulate-rh', 'caudalmiddlefrontal-lh', \n",
    "# 'caudalmiddlefrontal-rh', 'cuneus-lh', 'cuneus-rh', 'entorhinal-lh', 'frontalpole-lh', 'frontalpole-rh', \n",
    "# 'fusiform-lh', 'fusiform-rh', 'inferiorparietal-lh', 'inferiortemporal-lh', 'inferiortemporal-rh', 'insula-lh',\n",
    "# 'insula-rh', 'isthmuscingulate-lh', 'isthmuscingulate-rh', 'lateraloccipital-lh', 'lateraloccipital-rh', 'lateralorbitofrontal-lh', \n",
    "# 'lateralorbitofrontal-rh', 'lingual-lh', 'lingual-rh', 'medialorbitofrontal-lh', 'medialorbitofrontal-rh', 'middletemporal-rh', 'parahippocampal-lh',\n",
    "# 'parahippocampal-rh', 'parsopercularis-lh', 'parsopercularis-rh', 'parsorbitalis-lh', 'parsorbitalis-rh', 'parstriangularis-lh', 'parstriangularis-rh',\n",
    "# 'pericalcarine-lh', 'pericalcarine-rh', 'postcentral-lh', 'postcentral-rh', 'posteriorcingulate-lh', 'posteriorcingulate-rh', 'precuneus-lh', 'precuneus-rh', \n",
    "# 'rostralanteriorcingulate-lh', 'rostralanteriorcingulate-rh', 'rostralmiddlefrontal-lh', 'rostralmiddlefrontal-rh', 'superiorfrontal-lh', 'superiorfrontal-rh',\n",
    "# 'superiorparietal-lh', 'superiorparietal-rh','superiortemporal-rh', 'supramarginal-rh', 'temporalpole-lh', 'temporalpole-rh', 'transversetemporal-lh', 'transversetemporal-rh']\n",
    "\n",
    "##p<0.01\n",
    "#regions_to_color =['caudalanteriorcingulate-lh', 'caudalanteriorcingulate-rh', 'caudalmiddlefrontal-lh', 'caudalmiddlefrontal-rh', 'cuneus-lh', 'frontalpole-lh', 'fusiform-rh', 'inferiortemporal-lh', \n",
    "#  'inferiortemporal-rh', 'insula-rh', 'isthmuscingulate-lh', 'isthmuscingulate-rh', 'lateraloccipital-rh', 'lateralorbitofrontal-lh', 'lateralorbitofrontal-rh', 'lingual-lh', 'lingual-rh',\n",
    "#    'medialorbitofrontal-lh', 'medialorbitofrontal-rh', 'parahippocampal-lh', 'parahippocampal-rh', 'parsopercularis-lh', 'parsopercularis-rh', 'parsorbitalis-rh', 'parstriangularis-lh', \n",
    "#    'parstriangularis-rh', 'posteriorcingulate-lh', 'precuneus-lh', 'precuneus-rh', 'rostralanteriorcingulate-lh', 'rostralanteriorcingulate-rh', 'rostralmiddlefrontal-lh', \n",
    "#    'superiorfrontal-lh', 'superiorfrontal-rh', 'superiorparietal-lh', 'superiorparietal-rh', 'superiortemporal-rh', 'supramarginal-rh', 'temporalpole-lh', 'transversetemporal-rh']\n",
    "\n",
    "# ##p<0.005\n",
    "#regions_to_color =['caudalanteriorcingulate-lh', 'caudalanteriorcingulate-rh', 'caudalmiddlefrontal-lh', 'cuneus-lh', 'frontalpole-lh', 'fusiform-rh', 'inferiortemporal-lh', \n",
    "#  'inferiortemporal-rh', 'insula-rh', 'isthmuscingulate-lh', 'isthmuscingulate-rh', 'lateraloccipital-rh', 'lateralorbitofrontal-rh', 'lingual-rh', 'medialorbitofrontal-lh',\n",
    "#    'medialorbitofrontal-rh', 'parahippocampal-lh', 'parahippocampal-rh', 'parsopercularis-rh', 'parsorbitalis-rh', 'parstriangularis-lh', 'parstriangularis-rh', 'posteriorcingulate-lh',\n",
    "#      'precuneus-lh', 'rostralanteriorcingulate-lh', 'rostralmiddlefrontal-lh', 'superiorfrontal-lh', 'superiorfrontal-rh', 'superiorparietal-lh', 'superiorparietal-rh', \n",
    "#      'superiortemporal-rh', 'supramarginal-rh', 'temporalpole-lh', 'transversetemporal-rh']\n",
    "\n",
    "# ##p<0.001\n",
    "#regions_to_color =['caudalanteriorcingulate-lh', 'caudalanteriorcingulate-rh', 'caudalmiddlefrontal-lh', 'cuneus-lh', 'frontalpole-lh', 'insula-rh', 'isthmuscingulate-lh', 'lateralorbitofrontal-rh', \n",
    "#   'parahippocampal-lh', 'parsopercularis-rh', 'parsorbitalis-rh', 'parstriangularis-lh', 'parstriangularis-rh', 'superiorparietal-rh', 'superiortemporal-rh']\n",
    "\n",
    "\n",
    "##taue\n",
    "# ##p<0.05\n",
    "#regions_to_color =['caudalanteriorcingulate-rh', 'entorhinal-rh', 'frontalpole-lh', 'frontalpole-rh', 'fusiform-rh', 'lateralorbitofrontal-lh', 'medialorbitofrontal-lh', 'medialorbitofrontal-rh',\n",
    "#    'rostralanteriorcingulate-lh', 'rostralanteriorcingulate-rh', 'superiorparietal-rh', 'temporalpole-lh']\n",
    "#p<0.01\n",
    "#regions_to_color =['frontalpole-rh', 'medialorbitofrontal-lh', 'medialorbitofrontal-rh']\n",
    "\n",
    "# #p<0.005\n",
    "#regions_to_color =['medialorbitofrontal-lh', 'medialorbitofrontal-rh']\n",
    "\n",
    "\n",
    "##batch 2: 11 to 25\n",
    "#regions_to_color =['caudalanteriorcingulate-lh', 'caudalanteriorcingulate-rh', 'caudalmiddlefrontal-lh', 'caudalmiddlefrontal-rh', 'cuneus-lh', 'entorhinal-lh', 'frontalpole-lh', 'fusiform-lh', 'fusiform-rh', 'inferiorparietal-lh',\n",
    "#   'inferiortemporal-lh', 'inferiortemporal-rh', 'insula-rh', 'isthmuscingulate-lh', 'isthmuscingulate-rh', 'lateraloccipital-rh', 'lateralorbitofrontal-rh', 'lingual-rh', \n",
    "#   'medialorbitofrontal-lh', 'medialorbitofrontal-rh', 'parahippocampal-lh', 'parahippocampal-rh', 'parsopercularis-rh', 'parsorbitalis-lh', 'parsorbitalis-rh',\n",
    "#     'parstriangularis-lh', 'parstriangularis-rh', 'posteriorcingulate-lh', 'posteriorcingulate-rh', 'precuneus-lh', 'precuneus-rh', 'rostralanteriorcingulate-lh', \n",
    "#     'superiorfrontal-rh', 'superiorparietal-lh', 'superiorparietal-rh', 'superiortemporal-rh', 'supramarginal-rh', 'temporalpole-lh', 'transversetemporal-rh']\n",
    "\n",
    "\n",
    "\n",
    "## strategy 1- batch 2: 11 to 25\n",
    "##gii\n",
    "#-regions_to_color =['bankssts-lh', 'caudalanteriorcingulate-lh', 'caudalanteriorcingulate-rh', 'caudalmiddlefrontal-lh', 'caudalmiddlefrontal-rh', 'cuneus-rh', 'entorhinal-lh', 'frontalpole-lh', \n",
    "#   'frontalpole-rh', 'insula-lh', 'medialorbitofrontal-lh', 'paracentral-rh', 'parahippocampal-rh', 'parsopercularis-rh', 'parstriangularis-lh', 'pericalcarine-lh',\n",
    "#     'posteriorcingulate-lh', 'posteriorcingulate-rh', 'precuneus-lh', 'precuneus-rh', 'rostralanteriorcingulate-lh', 'rostralanteriorcingulate-rh',\n",
    "#       'rostralmiddlefrontal-lh', 'superiorfrontal-rh', 'superiorparietal-rh', 'temporalpole-lh', 'temporalpole-rh']\n",
    "\n",
    "##tau_e\n",
    "# regions_to_color =['lateralorbitofrontal-lh', 'lateralorbitofrontal-rh', 'medialorbitofrontal-lh', 'medialorbitofrontal-rh', 'rostralanteriorcingulate-rh']\n",
    "\n",
    "regions_to_color =['bankssts-lh', 'caudalanteriorcingulate-lh', 'caudalanteriorcingulate-rh', 'caudalmiddlefrontal-lh', 'caudalmiddlefrontal-rh', 'cuneus-lh', 'cuneus-rh', 'entorhinal-lh', 'entorhinal-rh',\n",
    "  'frontalpole-lh', 'frontalpole-rh', 'fusiform-rh', 'inferiorparietal-rh', 'insula-lh', 'insula-rh', 'isthmuscingulate-lh', 'isthmuscingulate-rh', 'lateraloccipital-rh', \n",
    "  'lateralorbitofrontal-lh', 'lateralorbitofrontal-rh', 'lingual-lh', 'medialorbitofrontal-lh', 'medialorbitofrontal-rh', 'paracentral-rh', 'parahippocampal-lh', 'parahippocampal-rh',\n",
    "    'parsopercularis-lh', 'parsopercularis-rh', 'parsorbitalis-lh', 'parstriangularis-lh', 'parstriangularis-rh', 'pericalcarine-lh', 'postcentral-rh', 'posteriorcingulate-lh', \n",
    "    'posteriorcingulate-rh', 'precentral-lh', 'precuneus-lh', 'precuneus-rh', 'rostralanteriorcingulate-lh', 'rostralanteriorcingulate-rh', 'rostralmiddlefrontal-lh', 'rostralmiddlefrontal-rh', 'superiorfrontal-lh', 'superiorfrontal-rh', 'superiorparietal-lh', 'superiorparietal-rh', 'superiortemporal-rh', 'supramarginal-lh', 'temporalpole-lh', 'temporalpole-rh']"
   ]
  },
  {
   "cell_type": "code",
   "execution_count": 15,
   "metadata": {},
   "outputs": [],
   "source": [
    "brain = Brain(\n",
    "    subject=subject,\n",
    "    subjects_dir=subjects_dir,\n",
    "    surf=\"pial\",\n",
    "    hemi=\"split\",  \n",
    "    background=\"white\",\n",
    "    # views=[\"lat\", \"med\"],\n",
    "    views=['dorsal'],\n",
    "    size=(600, 600),\n",
    "    # offset='auto',\n",
    "    # view_layout='horizontal',\n",
    "    # show=False, \n",
    ")\n",
    "\n",
    "# 'dorsal', 'ventral', 'lat', 'medial', etc.)\n",
    "# views = 'medial'  # For example, 'lat' (lateral) view\n",
    "# brain.show_view(view=views)\n",
    "\n",
    "red_color = (1, 0, 0)  # RGB for red\n",
    "\n",
    "\n",
    "for label in labels:\n",
    "    if label.name in regions_to_color:  # Only color the specified regions\n",
    "        brain.add_label(label, color=red_color)  # Set color to red\n",
    "\n",
    "#brain visualization\n",
    "brain.show()\n",
    "# brain.save_image(\"strat1_taue_dorsal_view_all.png\")"
   ]
  },
  {
   "cell_type": "code",
   "execution_count": null,
   "metadata": {},
   "outputs": [],
   "source": []
  },
  {
   "cell_type": "code",
   "execution_count": null,
   "metadata": {},
   "outputs": [],
   "source": []
  }
 ],
 "metadata": {
  "kernelspec": {
   "display_name": "base",
   "language": "python",
   "name": "python3"
  },
  "language_info": {
   "codemirror_mode": {
    "name": "ipython",
    "version": 3
   },
   "file_extension": ".py",
   "mimetype": "text/x-python",
   "name": "python",
   "nbconvert_exporter": "python",
   "pygments_lexer": "ipython3",
   "version": "3.12.3"
  }
 },
 "nbformat": 4,
 "nbformat_minor": 2
}
