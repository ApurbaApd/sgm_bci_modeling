{
 "cells": [
  {
   "cell_type": "code",
   "execution_count": 1,
   "metadata": {},
   "outputs": [],
   "source": [
    "import numpy as np\n",
    "import pandas as pd\n",
    "import matplotlib.pyplot as plt\n",
    "import seaborn as sns\n",
    "import sys\n",
    "sys.path.append(\"../../\")\n",
    "\n",
    "#spectrome modules\n",
    "from spectrome.utils import functions, path\n",
    "from spectrome.brain import Brain\n",
    "import scipy.stats as stats\n",
    "from scipy.stats import friedmanchisquare\n",
    "\n",
    "\n",
    "from spectrome.forward import ntf_local_stimulus as nt_stim\n",
    "from spectrome.forward import ntf_local as nt_nostim\n",
    "from spectrome.forward import ntf_local_stimulus as nt_stim\n",
    "\n",
    "from scipy.io import loadmat\n",
    "from scipy.stats import wilcoxon\n",
    "from statsmodels.stats.multitest import fdrcorrection\n",
    "\n",
    "import pickle as pkl"
   ]
  },
  {
   "cell_type": "code",
   "execution_count": 2,
   "metadata": {},
   "outputs": [],
   "source": [
    "##modeled data\n",
    "x_mi_all={}\n",
    "x_base_all={}\n",
    "x_rest_all={}\n",
    "\n",
    "for num in range(1, 5):\n",
    "    x_mi_all[num]=np.zeros((68, 10, 19))\n",
    "    x_base_all[num]=np.zeros((68, 10, 19))\n",
    "    x_rest_all[num]=np.zeros((68, 10, 19))\n",
    "    \n",
    "    for i in range(19):\n",
    "        mi_fname = f'../bci_results_apd/bci_results/eeg/sess{num}/mi_allsubs_f/mi_nostim_mse_db_fvec330_{i}.p'\n",
    "        with open(mi_fname, 'rb') as f:\n",
    "            x_mi_all[num][:,:,i]=np.array(pkl.load(f))\n",
    "\n",
    "        base_fname = f'../bci_results_apd/bci_results/eeg/sess{num}/baseline_allsubs_f/baseline_nostim_mse_db_fvec330_{i}.p'\n",
    "        with open(base_fname, 'rb') as f:\n",
    "            x_base_all[num][:,:,i] = np.array(pkl.load(f))\n",
    "        \n",
    "        rest_fname = f'../bci_results_apd/bci_results/eeg/sess{num}/rs1_allsubs_f0/rs1_nostim_mse_db_fvec330_{i}.p'\n",
    "        with open(rest_fname, 'rb') as f:\n",
    "            x_rest_all[num][:,:,i]=np.array(pkl.load(f))\n"
   ]
  },
  {
   "cell_type": "code",
   "execution_count": null,
   "metadata": {},
   "outputs": [],
   "source": []
  },
  {
   "cell_type": "code",
   "execution_count": 3,
   "metadata": {},
   "outputs": [],
   "source": [
    "##all the sessions data of EEG\n",
    "data1=loadmat(\"../../../Database_PWelch_AvgTrials_MI_Baseline_RS1_19Subjects_EEG_Sess1.mat\")\n",
    "fvec=np.squeeze(data1[\"Freqs\"])[3:30]"
   ]
  },
  {
   "cell_type": "code",
   "execution_count": 4,
   "metadata": {},
   "outputs": [],
   "source": [
    "scores=np.squeeze(loadmat(\"../../../Performance_Sess4.mat\")['Performance_Sess4'])\n",
    "df=pd.read_excel('../../../spectrome-bci/spectrome/ListROIs_DK.xlsx')"
   ]
  },
  {
   "cell_type": "code",
   "execution_count": 6,
   "metadata": {},
   "outputs": [],
   "source": [
    "all_regions=[]\n",
    "all_regions_idx=[]\n",
    "for i,r in df.iterrows():\n",
    "    all_regions_idx.append(i)\n",
    "    all_regions.append(r['ROI'].strip(\"'\"))"
   ]
  },
  {
   "cell_type": "code",
   "execution_count": 7,
   "metadata": {},
   "outputs": [
    {
     "data": {
      "text/plain": [
       "(68, 10, 19)"
      ]
     },
     "execution_count": 7,
     "metadata": {},
     "output_type": "execute_result"
    }
   ],
   "source": [
    "x_mi_all[4][:,:,:].shape"
   ]
  },
  {
   "cell_type": "code",
   "execution_count": 8,
   "metadata": {},
   "outputs": [
    {
     "data": {
      "text/plain": [
       "array([89.3 , 38.1 , 86.1 , 63.9 , 88.9 , 56.7 , 70.  , 60.  , 66.1 ,\n",
       "       63.3 , 53.9 , 77.2 , 69.17, 80.  , 61.1 , 71.  , 73.  , 68.33,\n",
       "       56.67])"
      ]
     },
     "execution_count": 8,
     "metadata": {},
     "output_type": "execute_result"
    }
   ],
   "source": [
    "scores"
   ]
  },
  {
   "cell_type": "code",
   "execution_count": 9,
   "metadata": {},
   "outputs": [
    {
     "data": {
      "text/plain": [
       "array([ 0.04820916,  2.65499764, -0.57239886, -0.1844952 , -0.68110669,\n",
       "       -0.09087515,  0.08186827,  0.01427024, -0.59530394,  0.04462838,\n",
       "        0.13465479, -0.42807096,  2.67032068, -0.61516278, -0.04447211,\n",
       "       -0.03489042,  0.06789063,  0.10372382, -0.02355522])"
      ]
     },
     "execution_count": 9,
     "metadata": {},
     "output_type": "execute_result"
    }
   ],
   "source": [
    "(x_mi_all[4][3,2,:]-x_rest_all[4][3,2,:])/x_rest_all[4][3,2,:]"
   ]
  },
  {
   "cell_type": "code",
   "execution_count": 10,
   "metadata": {},
   "outputs": [
    {
     "data": {
      "text/plain": [
       "(68, 19)"
      ]
     },
     "execution_count": 10,
     "metadata": {},
     "output_type": "execute_result"
    }
   ],
   "source": [
    "x_mi_all[4][:,5].shape"
   ]
  },
  {
   "cell_type": "code",
   "execution_count": 11,
   "metadata": {},
   "outputs": [
    {
     "data": {
      "image/png": "[encoded data removed]",
      "text/plain": [
       "<Figure size 600x400 with 1 Axes>"
      ]
     },
     "metadata": {},
     "output_type": "display_data"
    }
   ],
   "source": [
    "plt.figure(figsize=(6,4))\n",
    "plt.title('Correlation between modeled spectra and actual spectra')\n",
    "plt.hist(x_mi_all[4][:, 5].flatten(), label='Motor-Imagery', alpha=0.5)\n",
    "plt.hist(x_rest_all[4][:, 5].flatten(),  label='Rest', alpha=0.5)\n",
    "# plt.hist(x_mi_all[3][:, 5].flatten(), label='mi-3', alpha=0.5)\n",
    "# plt.hist(x_mi_all[2][:, 5].flatten(), label='mi-2', alpha=0.5)\n",
    "# plt.hist(x_mi_all[1][:, 5].flatten(), label='mi-1', alpha=0.5)\n",
    "plt.legend()\n",
    "plt.show()"
   ]
  },
  {
   "cell_type": "code",
   "execution_count": 14,
   "metadata": {},
   "outputs": [
    {
     "data": {
      "text/plain": [
       "0.19914179987372382"
      ]
     },
     "execution_count": 14,
     "metadata": {},
     "output_type": "execute_result"
    }
   ],
   "source": [
    "x_mi_all[4][0,0,0]"
   ]
  },
  {
   "cell_type": "code",
   "execution_count": 15,
   "metadata": {},
   "outputs": [],
   "source": [
    "sess1_mi_rest_gei=[[] for _ in range(68)]"
   ]
  },
  {
   "cell_type": "markdown",
   "metadata": {},
   "source": [
    "### (MI-Rest)/Rest"
   ]
  },
  {
   "cell_type": "code",
   "execution_count": 16,
   "metadata": {},
   "outputs": [],
   "source": [
    "# ##gei--for first region\n",
    "# sess1_mi_rest_gei=[]\n",
    "# sess2_mi_rest_gei=[]\n",
    "# sess3_mi_rest_gei=[]\n",
    "# sess4_mi_rest_gei=[]\n",
    "\n",
    "# ##gii\n",
    "# sess1_mi_rest_gii=[]\n",
    "# sess2_mi_rest_gii=[]\n",
    "# sess3_mi_rest_gii=[]\n",
    "# sess4_mi_rest_gii=[]\n",
    "\n",
    "# ##tau_e\n",
    "# sess1_mi_rest_tau_e=[]\n",
    "# sess2_mi_rest_tau_e=[]\n",
    "# sess3_mi_rest_tau_e=[]\n",
    "# sess4_mi_rest_tau_e=[]\n",
    "\n",
    "# ##tau_i\n",
    "# sess1_mi_rest_tau_i=[]\n",
    "# sess2_mi_rest_tau_i=[]\n",
    "# sess3_mi_rest_tau_i=[]\n",
    "# sess4_mi_rest_tau_i=[]\n",
    "\n",
    "\n",
    "# for j in range(19):\n",
    "#     mi_rest1_gei=(abs(x_mi_all[1][0,0,j])-abs(x_rest_all[1][0,0,j]))/abs(x_rest_all[1][0,0,j])\n",
    "#     sess1_mi_rest_gei.append(mi_rest1_gei)\n",
    "#     mi_rest2_gei=(abs(x_mi_all[2][0,0,j])-abs(x_rest_all[2][0,0,j]))/abs(x_rest_all[2][0,0,j])\n",
    "#     sess2_mi_rest_gei.append(mi_rest2_gei)\n",
    "#     mi_rest3_gei=(abs(x_mi_all[3][0,0,j])-abs(x_rest_all[3][0,0,j]))/abs(x_rest_all[3][0,0,j])\n",
    "#     sess3_mi_rest_gei.append(mi_rest3_gei)\n",
    "#     mi_rest4_gei=(abs(x_mi_all[4][0,0,j])-abs(x_rest_all[4][0,0,j]))/abs(x_rest_all[4][0,0,j])\n",
    "#     sess4_mi_rest_gei.append(mi_rest4_gei)\n",
    "\n"
   ]
  },
  {
   "cell_type": "code",
   "execution_count": 17,
   "metadata": {},
   "outputs": [],
   "source": [
    "# sess1_mi_rest_gei"
   ]
  },
  {
   "cell_type": "code",
   "execution_count": 18,
   "metadata": {},
   "outputs": [],
   "source": [
    "# plt.figure(figsize=(6,4))\n",
    "# plt.hist(sess1_mi_rest_gei, label='1')\n",
    "# plt.hist(sess2_mi_rest_gei, label='2')\n",
    "# plt.hist(sess3_mi_rest_gei, label='3')\n",
    "# plt.hist(sess4_mi_rest_gei, label='4')\n",
    "# plt.legend()\n",
    "# plt.show()"
   ]
  },
  {
   "cell_type": "code",
   "execution_count": 19,
   "metadata": {},
   "outputs": [
    {
     "data": {
      "text/plain": [
       "(68, 10, 19)"
      ]
     },
     "execution_count": 19,
     "metadata": {},
     "output_type": "execute_result"
    }
   ],
   "source": [
    "x_mi_all[1].shape"
   ]
  },
  {
   "cell_type": "markdown",
   "metadata": {},
   "source": [
    "### analyzing gei"
   ]
  },
  {
   "cell_type": "code",
   "execution_count": 12,
   "metadata": {},
   "outputs": [],
   "source": [
    "##gei\n",
    "sess1_mi_rest_gei=[[] for _ in range(68)]\n",
    "sess2_mi_rest_gei=[[] for _ in range(68)]\n",
    "sess3_mi_rest_gei=[[] for _ in range(68)]\n",
    "sess4_mi_rest_gei=[[] for _ in range(68)]\n",
    "\n",
    " \n",
    "for k in range(68):\n",
    "  for J in range(19):\n",
    "        mi_rest1_gei=((x_mi_all[1][k,0,J])-(x_rest_all[1][k,0,J]))/(x_rest_all[1][k,0,J])\n",
    "        sess1_mi_rest_gei[k].append(mi_rest1_gei)\n",
    "\n",
    "        mi_rest2_gei=((x_mi_all[2][k,0,J])-(x_rest_all[2][k,0,J]))/(x_rest_all[2][k,0,J])\n",
    "        sess2_mi_rest_gei[k].append(mi_rest2_gei)\n",
    "\n",
    "        mi_rest3_gei=((x_mi_all[3][k,0,J])-(x_rest_all[3][k,0,J]))/(x_rest_all[3][k,0,J])\n",
    "        sess3_mi_rest_gei[k].append(mi_rest3_gei)\n",
    "        \n",
    "        mi_rest4_gei=((x_mi_all[4][k,0,J])-(x_rest_all[4][k,0,J]))/(x_rest_all[4][k,0,J])\n",
    "        sess4_mi_rest_gei[k].append(mi_rest4_gei)\n"
   ]
  },
  {
   "cell_type": "code",
   "execution_count": 13,
   "metadata": {},
   "outputs": [
    {
     "name": "stdout",
     "output_type": "stream",
     "text": [
      "Incase of gei, significant regions are---\n"
     ]
    }
   ],
   "source": [
    "print(\"Incase of gei, significant regions are---\")\n",
    "for i in range(68):\n",
    "    result = stats.kruskal(sess1_mi_rest_gei[i], sess2_mi_rest_gei[i], sess3_mi_rest_gei[i], sess4_mi_rest_gei[i])\n",
    "    # print(result[1])\n",
    "    if result[1]<=0.05:\n",
    "        for j, reg in enumerate(all_regions):\n",
    "            if i==j:\n",
    "                print(f\"index {i}, {all_regions[j]}, {result}\")"
   ]
  },
  {
   "cell_type": "code",
   "execution_count": 14,
   "metadata": {},
   "outputs": [
    {
     "name": "stdout",
     "output_type": "stream",
     "text": [
      "Incase of gei, significant regions are---\n",
      "index 23, lateraloccipital R, FriedmanchisquareResult(statistic=8.67741935483873, pvalue=0.03390193313598619)\n",
      "index 35, parahippocampal R, FriedmanchisquareResult(statistic=7.971428571428597, pvalue=0.046605896308867176)\n",
      "index 48, precentral L, FriedmanchisquareResult(statistic=8.294117647058837, pvalue=0.04030862455217)\n"
     ]
    }
   ],
   "source": [
    "print(\"Incase of gei, significant regions are---\")\n",
    "for i in range(68):\n",
    "    result = friedmanchisquare(sess1_mi_rest_gei[i], sess2_mi_rest_gei[i], sess3_mi_rest_gei[i], sess4_mi_rest_gei[i])\n",
    "    if result[1]<=0.05:\n",
    "        for j, reg in enumerate(all_regions):\n",
    "            if i==j:\n",
    "                print(f\"index {i}, {all_regions[j]}, {result}\")\n"
   ]
  },
  {
   "cell_type": "code",
   "execution_count": 15,
   "metadata": {},
   "outputs": [],
   "source": [
    "p_values = []\n",
    "\n",
    "for i in range(68):\n",
    "    result =  friedmanchisquare(sess1_mi_rest_gei[i], sess2_mi_rest_gei[i], sess3_mi_rest_gei[i], sess4_mi_rest_gei[i])\n",
    "    p_values.append(result[1])\n",
    "\n",
    "fdr_corrected_pvals = fdrcorrection(p_values)[1]\n",
    "fdr_corr = fdr_corrected_pvals.tolist()\n",
    "\n",
    "for i in range(len(fdr_corr)):\n",
    "    if fdr_corr[i] <0.1:\n",
    "        print(f\"index {i}, {all_regions[i]}, {fdr_corr[i]}\")"
   ]
  },
  {
   "cell_type": "code",
   "execution_count": 16,
   "metadata": {},
   "outputs": [
    {
     "data": {
      "text/plain": [
       "array([0.97442689, 0.97442689, 0.97442689, 0.97442689, 0.74113152,\n",
       "       0.77384599, 0.97442689, 0.74113152, 0.97442689, 0.97442689,\n",
       "       0.97442689, 0.97442689, 0.97442689, 0.97442689, 0.97442689,\n",
       "       0.97442689, 0.97442689, 0.97442689, 0.97442689, 0.97442689,\n",
       "       0.97442689, 0.97442689, 0.97442689, 0.73521194, 0.97442689,\n",
       "       0.97442689, 0.97442689, 0.97442689, 0.99246146, 0.97442689,\n",
       "       0.97442689, 0.74113152, 0.97442689, 0.74113152, 0.97442689,\n",
       "       0.73521194, 0.74113152, 0.97442689, 0.97442689, 0.97442689,\n",
       "       0.97442689, 0.97442689, 0.97442689, 0.73521194, 0.97442689,\n",
       "       0.97442689, 0.97442689, 0.97442689, 0.73521194, 0.97442689,\n",
       "       0.97442689, 0.97442689, 0.97442689, 0.99246146, 0.73521194,\n",
       "       0.97442689, 0.73521194, 0.74113152, 0.97442689, 0.97442689,\n",
       "       0.97442689, 0.97442689, 0.97442689, 0.97442689, 0.97442689,\n",
       "       0.97442689, 0.97442689, 0.97442689])"
      ]
     },
     "execution_count": 16,
     "metadata": {},
     "output_type": "execute_result"
    }
   ],
   "source": [
    "fdr_corrected_pvals"
   ]
  },
  {
   "cell_type": "markdown",
   "metadata": {},
   "source": [
    "### Analysis of gii"
   ]
  },
  {
   "cell_type": "code",
   "execution_count": 17,
   "metadata": {},
   "outputs": [],
   "source": [
    "##gii\n",
    "sess1_mi_rest_gii=[[] for _ in range(68)]\n",
    "sess2_mi_rest_gii=[[] for _ in range(68)]\n",
    "sess3_mi_rest_gii=[[] for _ in range(68)]\n",
    "sess4_mi_rest_gii=[[] for _ in range(68)]\n",
    "\n",
    " \n",
    "for k in range(68):\n",
    "    for J in range(19):\n",
    "        mi_rest1_gii=((x_mi_all[1][k,1,J])-(x_rest_all[1][k,1,J]))/(x_rest_all[1][k,1,J])\n",
    "        sess1_mi_rest_gii[k].append(mi_rest1_gii)\n",
    "        mi_rest2_gii=((x_mi_all[2][k,1,J])-(x_rest_all[2][k,1,J]))/(x_rest_all[2][k,1,J])\n",
    "        sess2_mi_rest_gii[k].append(mi_rest2_gii)\n",
    "        mi_rest3_gii=((x_mi_all[3][k,1,J])-(x_rest_all[3][k,1,J]))/(x_rest_all[3][k,1,J])\n",
    "        sess3_mi_rest_gii[k].append(mi_rest3_gii)\n",
    "        mi_rest4_gii=((x_mi_all[4][k,1,J])-(x_rest_all[4][k,1,J]))/(x_rest_all[4][k,1,J])\n",
    "        sess4_mi_rest_gii[k].append(mi_rest4_gii)\n"
   ]
  },
  {
   "cell_type": "code",
   "execution_count": 18,
   "metadata": {},
   "outputs": [
    {
     "name": "stdout",
     "output_type": "stream",
     "text": [
      "Incase of gii, significant regions are---\n",
      "index 4, caudalmiddlefrontal L, KruskalResult(statistic=8.853489847989692, pvalue=0.03130359301457407)\n"
     ]
    }
   ],
   "source": [
    "print(\"Incase of gii, significant regions are---\")\n",
    "for i in range(68):\n",
    "    result = stats.kruskal(sess1_mi_rest_gii[i], sess2_mi_rest_gii[i], sess3_mi_rest_gii[i], sess4_mi_rest_gii[i])\n",
    "    if result[1]<=0.05:\n",
    "        for j, reg in enumerate(all_regions):\n",
    "            if i==j:\n",
    "                print(f\"index {i}, {all_regions[j]}, {result}\")\n"
   ]
  },
  {
   "cell_type": "code",
   "execution_count": 19,
   "metadata": {},
   "outputs": [],
   "source": [
    "for i in range(68):\n",
    "    result = friedmanchisquare(sess1_mi_rest_gii[i], sess2_mi_rest_gii[i], sess3_mi_rest_gii[i], sess4_mi_rest_gii[i])\n",
    "    # print(result[1])\n",
    "    if result[1]<=0.05:\n",
    "        for j, reg in enumerate(all_regions):\n",
    "            if i==j:\n",
    "                print(f\"index {i}, {all_regions[j]}, {result}\")"
   ]
  },
  {
   "cell_type": "code",
   "execution_count": 20,
   "metadata": {},
   "outputs": [],
   "source": [
    "p_values = []\n",
    "\n",
    "for i in range(68):\n",
    "    result = friedmanchisquare(sess1_mi_rest_gii[i], sess2_mi_rest_gii[i], sess3_mi_rest_gii[i], sess4_mi_rest_gii[i])\n",
    "    p_values.append(result[1])\n",
    "\n",
    "fdr_corrected_pvals = fdrcorrection(p_values)[1]\n",
    "fdr_corr = fdr_corrected_pvals.tolist()\n",
    "\n",
    "for i in range(len(fdr_corr)):\n",
    "    if fdr_corr[i] < 0.1:\n",
    "        print(f\"index {i}, {all_regions[i]}, {fdr_corr[i]}\")"
   ]
  },
  {
   "cell_type": "code",
   "execution_count": 21,
   "metadata": {},
   "outputs": [
    {
     "data": {
      "text/plain": [
       "array([0.92359512, 0.95135473, 0.92359512, 0.92359512, 0.92359512,\n",
       "       0.92359512, 0.92359512, 0.92359512, 0.92359512, 0.92359512,\n",
       "       0.92359512, 0.96057916, 0.92359512, 0.95511655, 0.92359512,\n",
       "       0.92359512, 0.92359512, 0.9313595 , 0.96128261, 0.99847392,\n",
       "       0.92359512, 0.99847392, 0.92359512, 0.92359512, 0.95511655,\n",
       "       0.99847392, 0.92359512, 0.99477395, 0.92359512, 0.96128261,\n",
       "       0.92359512, 0.92359512, 0.95511655, 0.92359512, 0.92359512,\n",
       "       0.92359512, 0.96128261, 0.99267152, 0.92359512, 0.95135473,\n",
       "       0.92359512, 0.92359512, 0.95135473, 0.92359512, 0.96128261,\n",
       "       0.96057916, 0.92359512, 0.92359512, 0.92359512, 0.95511655,\n",
       "       0.92359512, 0.92359512, 0.98300577, 0.95135473, 0.95511655,\n",
       "       0.95135473, 0.92359512, 0.96128261, 0.92359512, 0.92359512,\n",
       "       0.98300577, 0.92359512, 0.96057916, 0.92359512, 0.92359512,\n",
       "       0.96057916, 0.95511655, 0.92359512])"
      ]
     },
     "execution_count": 21,
     "metadata": {},
     "output_type": "execute_result"
    }
   ],
   "source": [
    "fdr_corrected_pvals"
   ]
  },
  {
   "cell_type": "markdown",
   "metadata": {},
   "source": [
    "### Analysis of tau_e"
   ]
  },
  {
   "cell_type": "code",
   "execution_count": 22,
   "metadata": {},
   "outputs": [],
   "source": [
    "##tau_e\n",
    "sess1_mi_rest_tau_e=[[] for _ in range(68)]\n",
    "sess2_mi_rest_tau_e=[[] for _ in range(68)]\n",
    "sess3_mi_rest_tau_e=[[] for _ in range(68)]\n",
    "sess4_mi_rest_tau_e=[[] for _ in range(68)]\n",
    "\n",
    "for k in range(68):\n",
    "    for J in range(19):\n",
    "        mi_rest1_tau_e=((x_mi_all[1][k,2,J])-(x_rest_all[1][k,2,J]))/(x_rest_all[1][k,2,J])\n",
    "        sess1_mi_rest_tau_e[k].append(mi_rest1_tau_e)\n",
    "        mi_rest2_tau_e=((x_mi_all[2][k,2,J])-(x_rest_all[2][k,2,J]))/(x_rest_all[2][k,2,J])\n",
    "        sess2_mi_rest_tau_e[k].append(mi_rest2_tau_e)\n",
    "        mi_rest3_tau_e=((x_mi_all[3][k,2,J])-(x_rest_all[3][k,2,J]))/(x_rest_all[3][k,2,J])\n",
    "        sess3_mi_rest_tau_e[k].append(mi_rest3_tau_e)\n",
    "        mi_rest4_tau_e=((x_mi_all[4][k,2,J])-(x_rest_all[4][k,2,J]))/(x_rest_all[4][k,2,J])\n",
    "        sess4_mi_rest_tau_e[k].append(mi_rest4_tau_e)"
   ]
  },
  {
   "cell_type": "code",
   "execution_count": 23,
   "metadata": {},
   "outputs": [
    {
     "data": {
      "text/plain": [
       "[-0.1528324710139124,\n",
       " 0.0,\n",
       " -0.7096627599974819,\n",
       " -0.1858217319089282,\n",
       " 2.172911284248204,\n",
       " -0.17069089417914343,\n",
       " 0.0,\n",
       " 0.3136878600376268,\n",
       " -0.19125460796232557,\n",
       " 0.08981980924768831,\n",
       " -0.5901956263057359,\n",
       " 1.302737948109798,\n",
       " -0.799466739787268,\n",
       " -0.40001451235722657,\n",
       " 0.0,\n",
       " 0.0,\n",
       " 0.25410630059082673,\n",
       " -0.1278453906467742,\n",
       " -0.07735838621646944]"
      ]
     },
     "execution_count": 23,
     "metadata": {},
     "output_type": "execute_result"
    }
   ],
   "source": [
    "sess1_mi_rest_tau_e[67]"
   ]
  },
  {
   "cell_type": "code",
   "execution_count": 24,
   "metadata": {},
   "outputs": [],
   "source": [
    "for i in range(68):\n",
    "    result = stats.kruskal(sess1_mi_rest_tau_e[i], sess2_mi_rest_tau_e[i], sess3_mi_rest_tau_e[i], sess4_mi_rest_tau_e[i])\n",
    "    if result[1]<=0.05:\n",
    "        for j, reg in enumerate(all_regions):\n",
    "            if i==j:\n",
    "                print(f\"index {i}, {all_regions[j]}, {result}\")\n"
   ]
  },
  {
   "cell_type": "code",
   "execution_count": 25,
   "metadata": {},
   "outputs": [
    {
     "name": "stdout",
     "output_type": "stream",
     "text": [
      "Incase of tau_e, significant regions are---\n",
      "index 1, bankssts R, FriedmanchisquareResult(statistic=9.0, pvalue=0.02929088653488826)\n",
      "index 2, caudalanteriorcingulate L, FriedmanchisquareResult(statistic=10.89473684210526, pvalue=0.012308905748379492)\n",
      "index 3, caudalanteriorcingulate R, FriedmanchisquareResult(statistic=16.19999999999999, pvalue=0.0010317868098302402)\n",
      "index 5, caudalmiddlefrontal R, FriedmanchisquareResult(statistic=8.714285714285708, pvalue=0.03334098763439356)\n",
      "index 22, lateraloccipital L, FriedmanchisquareResult(statistic=7.930851063829792, pvalue=0.047462633287195626)\n"
     ]
    }
   ],
   "source": [
    "print(\"Incase of tau_e, significant regions are---\")\n",
    "for i in range(68):\n",
    "    result = friedmanchisquare(sess1_mi_rest_tau_e[i], sess2_mi_rest_tau_e[i], sess3_mi_rest_tau_e[i], sess4_mi_rest_tau_e[i])\n",
    "    if result[1]<=0.05:\n",
    "        for j, reg in enumerate(all_regions):\n",
    "            if i==j:\n",
    "                print(f\"index {i}, {all_regions[j]}, {result}\")"
   ]
  },
  {
   "cell_type": "code",
   "execution_count": 26,
   "metadata": {},
   "outputs": [
    {
     "name": "stdout",
     "output_type": "stream",
     "text": [
      "index 3, caudalanteriorcingulate R, 0.07016150306845634\n"
     ]
    }
   ],
   "source": [
    "p_values = []\n",
    "\n",
    "for i in range(68):\n",
    "    result = friedmanchisquare(sess1_mi_rest_tau_e[i], sess2_mi_rest_tau_e[i], sess3_mi_rest_tau_e[i], sess4_mi_rest_tau_e[i])\n",
    "    p_values.append(result[1])\n",
    "\n",
    "fdr_corrected_pvals = fdrcorrection(p_values)[1]\n",
    "fdr_corr = fdr_corrected_pvals.tolist()\n",
    "\n",
    "for i in range(len(fdr_corr)):\n",
    "    if fdr_corr[i] < 0.1:\n",
    "        print(f\"index {i}, {all_regions[i]}, {fdr_corr[i]}\")"
   ]
  },
  {
   "cell_type": "code",
   "execution_count": 27,
   "metadata": {},
   "outputs": [
    {
     "data": {
      "text/plain": [
       "array([0.96297018, 0.56679679, 0.4185028 , 0.0701615 , 0.96297018,\n",
       "       0.56679679, 0.96297018, 0.96297018, 0.96297018, 0.96297018,\n",
       "       0.96297018, 0.92877122, 0.96297018, 0.96297018, 0.96297018,\n",
       "       0.96297018, 0.96297018, 0.96297018, 0.96297018, 0.96297018,\n",
       "       0.96297018, 0.96297018, 0.63141189, 0.96297018, 0.96297018,\n",
       "       0.96297018, 0.96297018, 0.96297018, 0.96297018, 0.96297018,\n",
       "       0.96297018, 0.96297018, 0.96297018, 0.96297018, 0.96297018,\n",
       "       0.96297018, 0.96297018, 0.96297018, 0.96297018, 0.96297018,\n",
       "       0.96297018, 0.96297018, 0.96297018, 0.96297018, 0.96297018,\n",
       "       0.96297018, 0.96297018, 0.96297018, 0.96297018, 0.92877122,\n",
       "       0.96297018, 0.96297018, 0.96297018, 0.96297018, 0.96297018,\n",
       "       0.96297018, 0.63141189, 0.96297018, 0.96297018, 0.96297018,\n",
       "       0.96297018, 0.96297018, 0.96297018, 0.96297018, 0.96297018,\n",
       "       0.96297018, 0.96297018, 0.96297018])"
      ]
     },
     "execution_count": 27,
     "metadata": {},
     "output_type": "execute_result"
    }
   ],
   "source": [
    "fdr_corrected_pvals"
   ]
  },
  {
   "cell_type": "markdown",
   "metadata": {},
   "source": [
    "### Analysis of tau_i"
   ]
  },
  {
   "cell_type": "code",
   "execution_count": 28,
   "metadata": {},
   "outputs": [],
   "source": [
    "##tau_i\n",
    "sess1_mi_rest_tau_i=[[] for _ in range(68)]\n",
    "sess2_mi_rest_tau_i=[[] for _ in range(68)]\n",
    "sess3_mi_rest_tau_i=[[] for _ in range(68)]\n",
    "sess4_mi_rest_tau_i=[[] for _ in range(68)]\n",
    "\n",
    " \n",
    "\n",
    "for k in range(68):\n",
    "   for J in range(19):\n",
    "        mi_rest1_tau_i=(abs(x_mi_all[1][k,3,J])-abs(x_rest_all[1][k,3,J]))/abs(x_rest_all[1][k,3,J])\n",
    "        sess1_mi_rest_tau_i[k].append(mi_rest1_tau_i)\n",
    "        \n",
    "        mi_rest2_tau_i=(abs(x_mi_all[2][k,3,J])-abs(x_rest_all[2][k,3,J]))/abs(x_rest_all[2][k,3,J])\n",
    "        sess2_mi_rest_tau_i[k].append(mi_rest2_tau_i)\n",
    "        mi_rest3_tau_i=(abs(x_mi_all[3][k,3,J])-abs(x_rest_all[3][k,3,J]))/abs(x_rest_all[3][k,3,J])\n",
    "        sess3_mi_rest_tau_i[k].append(mi_rest3_tau_i)\n",
    "        mi_rest4_tau_i=(abs(x_mi_all[4][k,3,J])-abs(x_rest_all[4][k,3,J]))/abs(x_rest_all[4][k,3,J])\n",
    "        sess4_mi_rest_tau_i[k].append(mi_rest4_tau_i)"
   ]
  },
  {
   "cell_type": "code",
   "execution_count": 29,
   "metadata": {},
   "outputs": [
    {
     "name": "stdout",
     "output_type": "stream",
     "text": [
      "Incase of tau_i, significant regions are---\n"
     ]
    }
   ],
   "source": [
    "print(\"Incase of tau_i, significant regions are---\")\n",
    "for i in range(68):\n",
    "    result = stats.kruskal(sess1_mi_rest_tau_i[i], sess2_mi_rest_tau_i[i], sess3_mi_rest_tau_i[i], sess4_mi_rest_tau_i[i])\n",
    "    if result[1]<=0.05:\n",
    "        for j, reg in enumerate(all_regions):\n",
    "            if i==j:\n",
    "                print(f\"index {i}, {all_regions[j]}, {result}\")"
   ]
  },
  {
   "cell_type": "code",
   "execution_count": 30,
   "metadata": {},
   "outputs": [
    {
     "name": "stdout",
     "output_type": "stream",
     "text": [
      "Incase of tau_i, significant regions are---\n",
      "index 2, caudalanteriorcingulate L, FriedmanchisquareResult(statistic=8.259493670886053, pvalue=0.04094240218193096)\n"
     ]
    }
   ],
   "source": [
    "print(\"Incase of tau_i, significant regions are---\")\n",
    "for i in range(68):\n",
    "    result = friedmanchisquare(sess1_mi_rest_tau_i[i], sess2_mi_rest_tau_i[i], sess3_mi_rest_tau_i[i], sess4_mi_rest_tau_i[i])\n",
    "    if result[1]<=0.05:\n",
    "        for j, reg in enumerate(all_regions):\n",
    "            if i==j:\n",
    "                print(f\"index {i}, {all_regions[j]}, {result}\")"
   ]
  },
  {
   "cell_type": "code",
   "execution_count": 31,
   "metadata": {},
   "outputs": [],
   "source": [
    "p_values = []\n",
    "\n",
    "for i in range(68):\n",
    "    result = friedmanchisquare(sess1_mi_rest_tau_i[i], sess2_mi_rest_tau_i[i], sess3_mi_rest_tau_i[i], sess4_mi_rest_tau_i[i])\n",
    "    p_values.append(result[1])\n",
    "\n",
    "fdr_corrected_pvals = fdrcorrection(p_values)[1]\n",
    "fdr_corr = fdr_corrected_pvals.tolist()\n",
    "\n",
    "for i in range(len(fdr_corr)):\n",
    "    if fdr_corr[i] < 0.1:\n",
    "        print(f\"index {i}, {all_regions[i]}, {fdr_corr[i]}\")"
   ]
  },
  {
   "cell_type": "code",
   "execution_count": 32,
   "metadata": {},
   "outputs": [
    {
     "data": {
      "text/plain": [
       "array([0.9971417, 0.9971417, 0.9971417, 0.9971417, 0.9971417, 0.9971417,\n",
       "       0.9971417, 0.9971417, 0.9971417, 0.9971417, 0.9971417, 0.9971417,\n",
       "       0.9971417, 0.9971417, 0.9971417, 0.9971417, 0.9971417, 0.9971417,\n",
       "       0.9971417, 0.9971417, 0.9971417, 0.9971417, 0.9971417, 0.9971417,\n",
       "       0.9971417, 0.9971417, 0.9971417, 0.9971417, 0.9971417, 0.9971417,\n",
       "       0.9971417, 0.9971417, 0.9971417, 0.9971417, 0.9971417, 0.9971417,\n",
       "       0.9971417, 0.9971417, 0.9971417, 0.9971417, 0.9971417, 0.9971417,\n",
       "       0.9971417, 0.9971417, 0.9971417, 0.9971417, 0.9971417, 0.9971417,\n",
       "       0.9971417, 0.9971417, 0.9971417, 0.9971417, 0.9971417, 0.9971417,\n",
       "       0.9971417, 0.9971417, 0.9971417, 0.9971417, 0.9971417, 0.9971417,\n",
       "       0.9971417, 0.9971417, 0.9971417, 0.9971417, 0.9971417, 0.9971417,\n",
       "       0.9971417, 0.9971417])"
      ]
     },
     "execution_count": 32,
     "metadata": {},
     "output_type": "execute_result"
    }
   ],
   "source": [
    "fdr_corrected_pvals"
   ]
  },
  {
   "cell_type": "code",
   "execution_count": null,
   "metadata": {},
   "outputs": [],
   "source": []
  },
  {
   "cell_type": "markdown",
   "metadata": {},
   "source": [
    "### Intra subject variability analysis over time, session after session"
   ]
  },
  {
   "cell_type": "code",
   "execution_count": 33,
   "metadata": {},
   "outputs": [
    {
     "data": {
      "text/plain": [
       "5"
      ]
     },
     "execution_count": 33,
     "metadata": {},
     "output_type": "execute_result"
    }
   ],
   "source": [
    "gii_region_codition_effect=['cuneus L', 'cuneus R', 'isthmuscingulate L', 'lingual L', 'parahippocampal R']\n",
    "gii_len=len(gii_region_codition_effect)\n",
    "gii_len"
   ]
  },
  {
   "cell_type": "code",
   "execution_count": 34,
   "metadata": {},
   "outputs": [
    {
     "name": "stdout",
     "output_type": "stream",
     "text": [
      "[6, 7, 20, 26, 35]\n"
     ]
    }
   ],
   "source": [
    "gii_reg_idx=[]\n",
    "for reg in gii_region_codition_effect:\n",
    "    gii_reg_idx.append(all_regions.index(reg))\n",
    "\n",
    "print(gii_reg_idx)"
   ]
  },
  {
   "cell_type": "code",
   "execution_count": 35,
   "metadata": {},
   "outputs": [
    {
     "data": {
      "text/plain": [
       "6"
      ]
     },
     "execution_count": 35,
     "metadata": {},
     "output_type": "execute_result"
    }
   ],
   "source": [
    "gii_reg_idx[0]"
   ]
  },
  {
   "cell_type": "code",
   "execution_count": null,
   "metadata": {},
   "outputs": [],
   "source": [
    "# ##gii\n",
    "# sess1_mi_rest_gii=[[] for _ in range(19)]\n",
    "# sess2_mi_rest_gii=[[] for _ in range(19)]\n",
    "# sess3_mi_rest_gii=[[] for _ in range(19)]\n",
    "# sess4_mi_rest_gii=[[] for _ in range(19)]\n",
    "\n",
    "\n",
    "# for j in range(19):\n",
    "#     for k in range(len(gii_reg_idx)):\n",
    "#         mi_rest1_gii=((x_mi_all[1][gii_reg_idx[k],1,j])-(x_rest_all[1][gii_reg_idx[k],1,j]))/(x_rest_all[1][gii_reg_idx[k],1,j])\n",
    "#         sess1_mi_rest_gii[j].append(mi_rest1_gii)\n",
    "\n",
    "        \n",
    "#         mi_rest2_gii=((x_mi_all[2][gii_reg_idx[k],1,j])-(x_rest_all[2][gii_reg_idx[k],1,j]))/(x_rest_all[2][gii_reg_idx[k],1,j])\n",
    "#         sess2_mi_rest_gii[j].append(mi_rest2_gii)\n",
    "\n",
    "#         mi_rest3_gii=((x_mi_all[3][gii_reg_idx[k],1,j])-(x_rest_all[3][gii_reg_idx[k],1,j]))/(x_rest_all[3][gii_reg_idx[k],1,j])\n",
    "#         sess3_mi_rest_gii[j].append(mi_rest3_gii)\n",
    "\n",
    "#         mi_rest4_gii=((x_mi_all[4][gii_reg_idx[k],1,j])-(x_rest_all[4][gii_reg_idx[k],1,j]))/(x_rest_all[4][gii_reg_idx[k],1,j])\n",
    "#         sess4_mi_rest_gii[j].append(mi_rest4_gii)\n"
   ]
  },
  {
   "cell_type": "code",
   "execution_count": 36,
   "metadata": {},
   "outputs": [],
   "source": [
    "##gii\n",
    "sess1_mi_rest_gii=[[] for _ in range(19)]\n",
    "sess2_mi_rest_gii=[[] for _ in range(19)]\n",
    "sess3_mi_rest_gii=[[] for _ in range(19)]\n",
    "sess4_mi_rest_gii=[[] for _ in range(19)]\n",
    "\n",
    "\n",
    "for j in range(19):\n",
    "    for k in range(len(gii_reg_idx)):\n",
    "        mi_rest1_gii=((x_mi_all[1][gii_reg_idx[k],1,j]))\n",
    "        sess1_mi_rest_gii[j].append(mi_rest1_gii)\n",
    "\n",
    "        \n",
    "        mi_rest2_gii=((x_mi_all[2][gii_reg_idx[k],1,j]))\n",
    "        sess2_mi_rest_gii[j].append(mi_rest2_gii)\n",
    "\n",
    "        mi_rest3_gii=((x_mi_all[3][gii_reg_idx[k],1,j]))\n",
    "        sess3_mi_rest_gii[j].append(mi_rest3_gii)\n",
    "\n",
    "        mi_rest4_gii=((x_mi_all[4][gii_reg_idx[k],1,j]))\n",
    "        sess4_mi_rest_gii[j].append(mi_rest4_gii)\n"
   ]
  },
  {
   "cell_type": "code",
   "execution_count": 37,
   "metadata": {},
   "outputs": [
    {
     "data": {
      "text/plain": [
       "(68, 10, 19)"
      ]
     },
     "execution_count": 37,
     "metadata": {},
     "output_type": "execute_result"
    }
   ],
   "source": [
    "x_mi_all[1][:,:,:].shape"
   ]
  },
  {
   "cell_type": "code",
   "execution_count": 38,
   "metadata": {},
   "outputs": [
    {
     "data": {
      "text/plain": [
       "[0.3410865315337904,\n",
       " 1.8983580862433764,\n",
       " 0.8937543521536958,\n",
       " 1.9,\n",
       " 0.32497964950911107]"
      ]
     },
     "execution_count": 38,
     "metadata": {},
     "output_type": "execute_result"
    }
   ],
   "source": [
    "sess1_mi_rest_gii[0]"
   ]
  },
  {
   "cell_type": "code",
   "execution_count": 39,
   "metadata": {},
   "outputs": [],
   "source": [
    "pvalues=[]\n",
    "for i in range(19):\n",
    "   pval= friedmanchisquare(sess1_mi_rest_gii[i], sess2_mi_rest_gii[i], sess3_mi_rest_gii[i], sess4_mi_rest_gii[i])[1]\n",
    "   pvalues.append(pval)"
   ]
  },
  {
   "cell_type": "code",
   "execution_count": 40,
   "metadata": {},
   "outputs": [
    {
     "data": {
      "text/plain": [
       "([0.0078057407518306934,\n",
       "  0.025557028107225127,\n",
       "  0.06939114413465479,\n",
       "  0.04519221940437146,\n",
       "  0.14939009423846003,\n",
       "  0.7243894461724858,\n",
       "  0.39162517627108906,\n",
       "  0.013716579257289866,\n",
       "  0.47529108334302206,\n",
       "  0.12481346246182602,\n",
       "  0.47168747629307395,\n",
       "  0.6684931675206047,\n",
       "  0.24066188520961498,\n",
       "  0.12089642353543009,\n",
       "  0.761827607910522,\n",
       "  0.3233653327485529,\n",
       "  0.6684931675206047,\n",
       "  0.20654629379644526,\n",
       "  0.7592675978639395],\n",
       " array([89.3 , 38.1 , 86.1 , 63.9 , 88.9 , 56.7 , 70.  , 60.  , 66.1 ,\n",
       "        63.3 , 53.9 , 77.2 , 69.17, 80.  , 61.1 , 71.  , 73.  , 68.33,\n",
       "        56.67]))"
      ]
     },
     "execution_count": 40,
     "metadata": {},
     "output_type": "execute_result"
    }
   ],
   "source": [
    "pvalues, scores"
   ]
  },
  {
   "cell_type": "code",
   "execution_count": 41,
   "metadata": {},
   "outputs": [],
   "source": [
    "pfdr=fdrcorrection(pvalues)[1]\n",
    "for idx, val in enumerate(pfdr):\n",
    "    if val < 0.05:\n",
    "        print(f\"FDR corrected p-value: {val}, {idx}\")"
   ]
  },
  {
   "cell_type": "markdown",
   "metadata": {},
   "source": [
    "## g_ei"
   ]
  },
  {
   "cell_type": "code",
   "execution_count": 42,
   "metadata": {},
   "outputs": [
    {
     "data": {
      "text/plain": [
       "5"
      ]
     },
     "execution_count": 42,
     "metadata": {},
     "output_type": "execute_result"
    }
   ],
   "source": [
    "gei_region_codition_effect = ['cuneus L', 'cuneus R', 'inferiorparietal L', 'lateraloccipital L', 'precentral L']\n",
    "gei_len=len(gei_region_codition_effect)\n",
    "gei_len"
   ]
  },
  {
   "cell_type": "code",
   "execution_count": 43,
   "metadata": {},
   "outputs": [
    {
     "name": "stdout",
     "output_type": "stream",
     "text": [
      "[6, 7, 14, 22, 48]\n"
     ]
    }
   ],
   "source": [
    "gei_reg_idx=[]\n",
    "for reg in gei_region_codition_effect:\n",
    "    gei_reg_idx.append(all_regions.index(reg))\n",
    "\n",
    "print(gei_reg_idx)"
   ]
  },
  {
   "cell_type": "code",
   "execution_count": 44,
   "metadata": {},
   "outputs": [],
   "source": [
    "##gei\n",
    "sess1_mi_rest_gei=[[] for _ in range(19)]\n",
    "sess2_mi_rest_gei=[[] for _ in range(19)]\n",
    "sess3_mi_rest_gei=[[] for _ in range(19)]\n",
    "sess4_mi_rest_gei=[[] for _ in range(19)]\n",
    "\n",
    "\n",
    "for j in range(19):\n",
    "    for k in range(len(gei_reg_idx)):\n",
    "        mi_rest1_gei=((x_mi_all[1][gei_reg_idx[k],1,j]))\n",
    "        sess1_mi_rest_gei[j].append(mi_rest1_gei)\n",
    "        \n",
    "        mi_rest2_gei=((x_mi_all[2][gei_reg_idx[k],1,j]))\n",
    "        sess2_mi_rest_gei[j].append(mi_rest2_gei)\n",
    "\n",
    "        mi_rest3_gei=((x_mi_all[3][gei_reg_idx[k],1,j]))\n",
    "        sess3_mi_rest_gei[j].append(mi_rest3_gei)\n",
    "\n",
    "        mi_rest4_gei=((x_mi_all[4][gei_reg_idx[k],1,j]))\n",
    "        sess4_mi_rest_gei[j].append(mi_rest4_gei)\n"
   ]
  },
  {
   "cell_type": "code",
   "execution_count": 45,
   "metadata": {},
   "outputs": [],
   "source": [
    "pvalues_gei=[]\n",
    "for i in range(19):\n",
    "   pval= friedmanchisquare(sess1_mi_rest_gei[i], sess2_mi_rest_gei[i], sess3_mi_rest_gei[i], sess4_mi_rest_gei[i])[1]\n",
    "   pvalues_gei.append(pval)"
   ]
  },
  {
   "cell_type": "code",
   "execution_count": 46,
   "metadata": {},
   "outputs": [],
   "source": [
    "pfdr=fdrcorrection(pvalues_gei)[1]\n",
    "for idx, val in enumerate(pfdr):\n",
    "    if val < 0.05:\n",
    "        print(f\"FDR corrected p-value: {val}, {idx}\")"
   ]
  },
  {
   "cell_type": "code",
   "execution_count": null,
   "metadata": {},
   "outputs": [],
   "source": []
  },
  {
   "cell_type": "code",
   "execution_count": null,
   "metadata": {},
   "outputs": [],
   "source": []
  },
  {
   "cell_type": "code",
   "execution_count": null,
   "metadata": {},
   "outputs": [],
   "source": []
  }
 ],
 "metadata": {
  "kernelspec": {
   "display_name": "base",
   "language": "python",
   "name": "python3"
  },
  "language_info": {
   "codemirror_mode": {
    "name": "ipython",
    "version": 3
   },
   "file_extension": ".py",
   "mimetype": "text/x-python",
   "name": "python",
   "nbconvert_exporter": "python",
   "pygments_lexer": "ipython3",
   "version": "3.12.3"
  }
 },
 "nbformat": 4,
 "nbformat_minor": 2
}
