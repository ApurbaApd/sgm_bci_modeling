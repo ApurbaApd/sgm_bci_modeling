{
 "cells": [
  {
   "cell_type": "code",
   "execution_count": 1,
   "id": "7bdf9e4b",
   "metadata": {},
   "outputs": [],
   "source": [
    "import numpy as np\n",
    "import pandas as pd\n",
    "import matplotlib.pyplot as plt\n",
    "import seaborn as sns\n",
    "import sys\n",
    "sys.path.append(\"../../\")\n",
    "\n",
    "#spectrome modules\n",
    "# from spectrome.utils import functions, path\n",
    "# from spectrome.brain import Brain\n",
    "# from spectrome.forward import ntf_local_stimulus as nt_stim\n",
    "# from spectrome.forward import ntf_local as nt_nostim\n",
    "# from spectrome.forward import ntf_local_stimulus as nt_stim\n",
    "\n",
    "from scipy.io import loadmat\n",
    "from scipy.stats import wilcoxon\n",
    "from statsmodels.stats.multitest import fdrcorrection\n",
    "\n",
    "from scipy.io import savemat\n",
    "import pickle as pkl"
   ]
  },
  {
   "cell_type": "code",
   "execution_count": 2,
   "id": "382e4922",
   "metadata": {},
   "outputs": [],
   "source": [
    "data1=loadmat(\"../../../../BRACCIO_Database_PWelch_AvgTrials_MI_RestingState_Strat2.mat\")"
   ]
  },
  {
   "cell_type": "code",
   "execution_count": 3,
   "id": "a911db06",
   "metadata": {},
   "outputs": [],
   "source": [
    "fvec = np.squeeze(data1['Freqs_MI_Strat2_DK'][0])[3:30]\n",
    "df=pd.read_excel('../../../../spectrome-bci/spectrome/ListROIs_DK.xlsx')"
   ]
  },
  {
   "cell_type": "code",
   "execution_count": 4,
   "id": "4423d0fc",
   "metadata": {},
   "outputs": [],
   "source": [
    "all_regions=[]\n",
    "all_regions_idx=[]\n",
    "for i,r in df.iterrows():\n",
    "    all_regions_idx.append(i)\n",
    "    all_regions.append(r['ROI'].strip(\"'\"))"
   ]
  },
  {
   "cell_type": "code",
   "execution_count": 5,
   "id": "69877ed6",
   "metadata": {},
   "outputs": [],
   "source": [
    "##strategy 1--modeled data from subject 11 to 25\n",
    "x_mi_all={}\n",
    "x_rest_all={}\n",
    "\n",
    "num=1\n",
    "x_mi_all[num]=np.zeros((68, 10, 26))\n",
    "x_rest_all[num]=np.zeros((68, 10, 26))\n",
    "\n",
    "for i in range(26):\n",
    "    mi_fname = f'../../bci_results_apd/bci_results/validation_strat1/mi_allsubs_f/mi_nostim_mse_db_fvec330_{i}.p'\n",
    "    with open(mi_fname, 'rb') as f:\n",
    "        x_mi_all[num][:,:,i]=np.array(pkl.load(f))\n",
    "    \n",
    "    rest_fname = f'../../bci_results_apd/bci_results/validation_strat1/rest_allsubs_f0/rest_nostim_mse_db_fvec330_{i}.p'\n",
    "    with open(rest_fname, 'rb') as f:\n",
    "        x_rest_all[num][:,:,i]=np.array(pkl.load(f))"
   ]
  },
  {
   "cell_type": "code",
   "execution_count": 6,
   "id": "32acb117",
   "metadata": {},
   "outputs": [
    {
     "data": {
      "text/plain": [
       "array([[30.        , 10.82599006,  5.29788976, ...,  5.05243254,\n",
       "         6.13559524, 17.35655339],\n",
       "       [ 7.68191251,  9.81294208, 24.8593523 , ...,  7.54985686,\n",
       "         5.        , 13.69477351],\n",
       "       [29.83771748, 29.06295955, 13.06368152, ..., 29.91565528,\n",
       "         6.22239945,  8.70327256],\n",
       "       ...,\n",
       "       [30.        , 18.34644355, 24.45009783, ...,  5.        ,\n",
       "        16.48317128, 13.4124424 ],\n",
       "       [ 5.03910452, 30.        , 12.63978999, ..., 12.93189544,\n",
       "         6.0455286 , 13.30408478],\n",
       "       [ 5.93603932,  5.        ,  7.10447268, ..., 10.37632828,\n",
       "        10.1969797 ,  6.91827474]])"
      ]
     },
     "execution_count": 6,
     "metadata": {},
     "output_type": "execute_result"
    }
   ],
   "source": [
    "x_mi_all[1][:,2, 11:]"
   ]
  },
  {
   "cell_type": "code",
   "execution_count": 7,
   "id": "28712741",
   "metadata": {},
   "outputs": [
    {
     "name": "stdout",
     "output_type": "stream",
     "text": [
      "Significant ROIs for gei (pfdr <0.01): []\n",
      "Significant ROIs for gii (pfdr < 0.05): ['bankssts L', 'caudalanteriorcingulate L', 'caudalanteriorcingulate R', 'caudalmiddlefrontal L', 'caudalmiddlefrontal R', 'cuneus R', 'entorhinal L', 'frontalpole L', 'frontalpole R', 'insula L', 'medialorbitofrontal L', 'paracentral R', 'parahippocampal R', 'parsopercularis R', 'parstriangularis L', 'pericalcarine L', 'posteriorcingulate L', 'posteriorcingulate R', 'precuneus L', 'precuneus R', 'rostralanteriorcingulate L', 'rostralanteriorcingulate R', 'rostralmiddlefrontal L', 'superiorfrontal R', 'superiorparietal R', 'temporalpole L', 'temporalpole R']\n",
      "Significant ROIs for tau_e (pfdr < 0.05): ['lateralorbitofrontal L', 'lateralorbitofrontal R', 'medialorbitofrontal L', 'medialorbitofrontal R', 'rostralanteriorcingulate R']\n",
      "Significant ROIs for tau_i (pfdr < 0.05): []\n",
      "(27,) (5,)\n"
     ]
    }
   ],
   "source": [
    "##Batch-2\n",
    "#to store p-values--(gei, gii, tau_e, tau_i)-across all subjects/performers\n",
    "### for MI V. Rest\n",
    "##for each region across subjects\n",
    "sess=1\n",
    "pval_all_reg_top = np.zeros((len(all_regions_idx), 4))\n",
    "for i in range(len(all_regions_idx)):\n",
    "    pval_all_reg_top[i,0]=wilcoxon(x_mi_all[sess][all_regions_idx[i],0, 11:],x_rest_all[sess][all_regions_idx[i],0,11:])[1] #gei\n",
    "    pval_all_reg_top[i,1]=wilcoxon(x_mi_all[sess][all_regions_idx[i],1, 11:],x_rest_all[sess][all_regions_idx[i],1,11:])[1] #gii\n",
    "    pval_all_reg_top[i,2]=wilcoxon(x_mi_all[sess][all_regions_idx[i],2,11:],x_rest_all[sess][all_regions_idx[i],2,11:])[1] #tau_e\n",
    "    pval_all_reg_top[i,3]=wilcoxon(x_mi_all[sess][all_regions_idx[i],3,11:],x_rest_all[sess][all_regions_idx[i],3,11:])[1] #tau_i\n",
    "\n",
    "# FDR-corrected p-values \n",
    "pfdr=np.zeros((len(all_regions_idx), 4))\n",
    "for i in range(4):\n",
    "    pfdr[:,i]=fdrcorrection(pval_all_reg_top[:, i])[1]\n",
    "\n",
    "significant_gei= np.where(pfdr[:,0]<0.05)[0]\n",
    "significant_gii= np.where(pfdr[:,1]<0.05)[0]\n",
    "significant_tau_e= np.where(pfdr[:,2]<0.05)[0]\n",
    "significant_tau_i= np.where(pfdr[:,3]<0.05)[0]\n",
    "\n",
    "print(\"Significant ROIs for gei (pfdr <0.01):\", [all_regions[i] for i in significant_gei])\n",
    "print(\"Significant ROIs for gii (pfdr < 0.05):\", [all_regions[i] for i in significant_gii])\n",
    "print(\"Significant ROIs for tau_e (pfdr < 0.05):\", [all_regions[i] for i in significant_tau_e])\n",
    "print(\"Significant ROIs for tau_i (pfdr < 0.05):\", [all_regions[i]  for i in significant_tau_i])\n",
    "\n",
    "print(significant_gii.shape,significant_tau_e.shape)\n",
    "\n",
    "#FDR-corrected p-values matrix for inspection\n",
    "# print(\"FDR Corrected p-values matrix for Top Performers:\\n\", pfdr)"
   ]
  },
  {
   "cell_type": "code",
   "execution_count": 14,
   "id": "fe5181ce",
   "metadata": {},
   "outputs": [
    {
     "name": "stdout",
     "output_type": "stream",
     "text": [
      "Significant ROIs for gei (pfdr <0.01): []\n",
      "Significant ROIs for gii (pfdr < 0.05): []\n",
      "Significant ROIs for tau_e (pfdr < 0.05): []\n",
      "Significant ROIs for tau_i (pfdr < 0.05): []\n",
      "(0,) (0,)\n"
     ]
    }
   ],
   "source": [
    "##Batch-1\n",
    "#to store p-values--(gei, gii, tau_e, tau_i)-across all subjects/performers\n",
    "### for MI V. Rest\n",
    "##for each region across subjects\n",
    "sess=1\n",
    "pval_all_reg_top = np.zeros((len(all_regions_idx), 4))\n",
    "for i in range(len(all_regions_idx)):\n",
    "    pval_all_reg_top[i,0]=wilcoxon(x_mi_all[sess][all_regions_idx[i],0, :10],x_rest_all[sess][all_regions_idx[i],0,:10])[1] #gei\n",
    "    pval_all_reg_top[i,1]=wilcoxon(x_mi_all[sess][all_regions_idx[i],1, :10],x_rest_all[sess][all_regions_idx[i],1,:10])[1] #gii\n",
    "    pval_all_reg_top[i,2]=wilcoxon(x_mi_all[sess][all_regions_idx[i],2,:10],x_rest_all[sess][all_regions_idx[i],2,:10])[1] #tau_e\n",
    "    pval_all_reg_top[i,3]=wilcoxon(x_mi_all[sess][all_regions_idx[i],3,:10],x_rest_all[sess][all_regions_idx[i],3,:10])[1] #tau_i\n",
    "\n",
    "# FDR-corrected p-values \n",
    "pfdr=np.zeros((len(all_regions_idx), 4))\n",
    "for i in range(4):\n",
    "    pfdr[:,i]=fdrcorrection(pval_all_reg_top[:, i])[1]\n",
    "\n",
    "significant_gei= np.where(pfdr[:,0]<0.05)[0]\n",
    "significant_gii= np.where(pfdr[:,1]<0.05)[0]\n",
    "significant_tau_e= np.where(pfdr[:,2]<0.05)[0]\n",
    "significant_tau_i= np.where(pfdr[:,3]<0.05)[0]\n",
    "\n",
    "print(\"Significant ROIs for gei (pfdr <0.01):\", [all_regions[i] for i in significant_gei])\n",
    "print(\"Significant ROIs for gii (pfdr < 0.05):\", [all_regions[i] for i in significant_gii])\n",
    "print(\"Significant ROIs for tau_e (pfdr < 0.05):\", [all_regions[i] for i in significant_tau_e])\n",
    "print(\"Significant ROIs for tau_i (pfdr < 0.05):\", [all_regions[i]  for i in significant_tau_i])\n",
    "\n",
    "print(significant_gii.shape,significant_tau_e.shape)\n",
    "\n",
    "#FDR-corrected p-values matrix for inspection\n",
    "# print(\"FDR Corrected p-values matrix for Top Performers:\\n\", pfdr)"
   ]
  },
  {
   "cell_type": "code",
   "execution_count": 15,
   "id": "b599337b",
   "metadata": {},
   "outputs": [
    {
     "name": "stdout",
     "output_type": "stream",
     "text": [
      "Significant ROIs for gei (pfdr <0.01): []\n",
      "Significant ROIs for gii (pfdr < 0.05): ['bankssts L', 'caudalanteriorcingulate L', 'caudalanteriorcingulate R', 'caudalmiddlefrontal L', 'caudalmiddlefrontal R', 'cuneus L', 'cuneus R', 'entorhinal L', 'entorhinal R', 'frontalpole L', 'frontalpole R', 'fusiform R', 'inferiorparietal R', 'insula L', 'insula R', 'isthmuscingulate L', 'isthmuscingulate R', 'lateraloccipital R', 'lateralorbitofrontal L', 'lateralorbitofrontal R', 'lingual L', 'medialorbitofrontal L', 'medialorbitofrontal R', 'paracentral R', 'parahippocampal L', 'parahippocampal R', 'parsopercularis L', 'parsopercularis R', 'parsorbitalis L', 'parstriangularis L', 'parstriangularis R', 'pericalcarine L', 'postcentral R', 'posteriorcingulate L', 'posteriorcingulate R', 'precentral L', 'precuneus L', 'precuneus R', 'rostralanteriorcingulate L', 'rostralanteriorcingulate R', 'rostralmiddlefrontal L', 'rostralmiddlefrontal R', 'superiorfrontal L', 'superiorfrontal R', 'superiorparietal L', 'superiorparietal R', 'superiortemporal R', 'supramarginal L', 'temporalpole L', 'temporalpole R']\n",
      "Significant ROIs for tau_e (pfdr < 0.05): ['caudalanteriorcingulate R', 'frontalpole L', 'frontalpole R', 'lateralorbitofrontal L', 'lateralorbitofrontal R', 'medialorbitofrontal L', 'medialorbitofrontal R', 'middletemporal R', 'parsorbitalis L', 'parsorbitalis R', 'parstriangularis L', 'postcentral R', 'precentral L', 'precentral R', 'rostralanteriorcingulate R', 'rostralmiddlefrontal R', 'superiorfrontal L', 'superiorfrontal R', 'superiorparietal R']\n",
      "Significant ROIs for tau_i (pfdr < 0.05): ['rostralanteriorcingulate R']\n",
      "(50,) (19,)\n"
     ]
    }
   ],
   "source": [
    "##all\n",
    "#to store p-values--(gei, gii, tau_e, tau_i)-across all subjects/performers\n",
    "### for MI V. Rest\n",
    "##for each region across subjects\n",
    "sess=1\n",
    "pval_all_reg_top = np.zeros((len(all_regions_idx), 4))\n",
    "for i in range(len(all_regions_idx)):\n",
    "    pval_all_reg_top[i,0]=wilcoxon(x_mi_all[sess][all_regions_idx[i],0, :],x_rest_all[sess][all_regions_idx[i],0,:])[1] #gei\n",
    "    pval_all_reg_top[i,1]=wilcoxon(x_mi_all[sess][all_regions_idx[i],1, :],x_rest_all[sess][all_regions_idx[i],1,:])[1] #gii\n",
    "    pval_all_reg_top[i,2]=wilcoxon(x_mi_all[sess][all_regions_idx[i],2,:],x_rest_all[sess][all_regions_idx[i],2,:])[1] #tau_e\n",
    "    pval_all_reg_top[i,3]=wilcoxon(x_mi_all[sess][all_regions_idx[i],3,:],x_rest_all[sess][all_regions_idx[i],3,:])[1] #tau_i\n",
    "\n",
    "# FDR-corrected p-values \n",
    "pfdr=np.zeros((len(all_regions_idx), 4))\n",
    "for i in range(4):\n",
    "    pfdr[:,i]=fdrcorrection(pval_all_reg_top[:, i])[1]\n",
    "\n",
    "significant_gei= np.where(pfdr[:,0]<0.05)[0]\n",
    "significant_gii= np.where(pfdr[:,1]<0.05)[0]\n",
    "significant_tau_e= np.where(pfdr[:,2]<0.05)[0]\n",
    "significant_tau_i= np.where(pfdr[:,3]<0.05)[0]\n",
    "\n",
    "print(\"Significant ROIs for gei (pfdr <0.01):\", [all_regions[i] for i in significant_gei])\n",
    "print(\"Significant ROIs for gii (pfdr < 0.05):\", [all_regions[i] for i in significant_gii])\n",
    "print(\"Significant ROIs for tau_e (pfdr < 0.05):\", [all_regions[i] for i in significant_tau_e])\n",
    "print(\"Significant ROIs for tau_i (pfdr < 0.05):\", [all_regions[i]  for i in significant_tau_i])\n",
    "\n",
    "print(significant_gii.shape,significant_tau_e.shape)\n",
    "\n",
    "#FDR-corrected p-values matrix for inspection\n",
    "# print(\"FDR Corrected p-values matrix for Top Performers:\\n\", pfdr)"
   ]
  },
  {
   "cell_type": "code",
   "execution_count": null,
   "id": "40a638ff",
   "metadata": {},
   "outputs": [],
   "source": []
  },
  {
   "cell_type": "code",
   "execution_count": null,
   "id": "1e199ad0",
   "metadata": {},
   "outputs": [],
   "source": []
  }
 ],
 "metadata": {
  "kernelspec": {
   "display_name": "base",
   "language": "python",
   "name": "python3"
  },
  "language_info": {
   "codemirror_mode": {
    "name": "ipython",
    "version": 3
   },
   "file_extension": ".py",
   "mimetype": "text/x-python",
   "name": "python",
   "nbconvert_exporter": "python",
   "pygments_lexer": "ipython3",
   "version": "3.12.3"
  }
 },
 "nbformat": 4,
 "nbformat_minor": 5
}
