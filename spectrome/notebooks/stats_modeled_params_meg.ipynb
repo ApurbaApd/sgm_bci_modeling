{
 "cells": [
  {
   "cell_type": "code",
   "execution_count": 1,
   "metadata": {},
   "outputs": [],
   "source": [
    "import numpy as np\n",
    "import pandas as pd\n",
    "import matplotlib.pyplot as plt\n",
    "import seaborn as sns\n",
    "import sys\n",
    "sys.path.append(\"../../\")\n",
    "\n",
    "#spectrome modules\n",
    "from spectrome.utils import functions, path\n",
    "from spectrome.brain import Brain\n",
    "import scipy.stats as stats\n",
    "from scipy.stats import friedmanchisquare\n",
    "\n",
    "\n",
    "from spectrome.forward import ntf_local_stimulus as nt_stim\n",
    "from spectrome.forward import ntf_local as nt_nostim\n",
    "from spectrome.forward import ntf_local_stimulus as nt_stim\n",
    "\n",
    "from scipy.io import loadmat\n",
    "from scipy.stats import wilcoxon\n",
    "from statsmodels.stats.multitest import fdrcorrection\n",
    "\n",
    "import pickle as pkl"
   ]
  },
  {
   "cell_type": "code",
   "execution_count": 2,
   "metadata": {},
   "outputs": [],
   "source": [
    "##all the sessions data of MEG\n",
    "data1=loadmat(\"../../../Database_PWelch_AvgTrials_MI_Baseline_RS1_19Subjects_MEG_Sess1.mat\")\n",
    "data2=loadmat(\"../../../Database_PWelch_AvgTrials_MI_Baseline_RS1_19Subjects_MEG_Sess2.mat\")\n",
    "data3=loadmat(\"../../../Database_PWelch_AvgTrials_MI_Baseline_RS1_19Subjects_MEG_Sess3.mat\")\n",
    "data4=loadmat(\"../../../Database_PWelch_AvgTrials_MI_Baseline_RS1_19Subjects_MEG_Sess4.mat\")\n",
    "\n",
    "\n",
    "##all the sessions mi \n",
    "sess1_mi_avg=data1['Avg_MI_MEG_DK']\n",
    "sess2_mi_avg=data2['Avg_MI_MEG_DK']\n",
    "sess3_mi_avg=data3['Avg_MI_MEG_DK']\n",
    "sess4_mi_avg=data4['Avg_MI_EEG_DK']\n",
    "\n",
    "##all the sessions resting state\n",
    "sess1_rest_avg=data1['Avg_RS1_MEG_DK']\n",
    "sess2_rest_avg=data2['Avg_RS1_MEG_DK']\n",
    "sess3_rest_avg=data3['Avg_RS1_MEG_DK']\n",
    "sess4_rest_avg=data4['Avg_RS1_EEG_DK']\n",
    "\n",
    "##all the sessions baseline\n",
    "sess1_base_avg=data1['Avg_Baseline_MEG_DK']\n",
    "sess2_base_avg=data2['Avg_Baseline_MEG_DK']\n",
    "sess3_base_avg=data3['Avg_Baseline_MEG_DK']\n",
    "sess4_base_avg=data4['Avg_Baseline_EEG_DK']\n"
   ]
  },
  {
   "cell_type": "code",
   "execution_count": null,
   "metadata": {},
   "outputs": [],
   "source": [
    "df=pd.read_excel('../../../spectrome-bci/spectrome/ListROIs_DK.xlsx')\n",
    "fvec=np.squeeze(data1[\"Freqs\"])[3:30]"
   ]
  },
  {
   "cell_type": "code",
   "execution_count": 4,
   "metadata": {},
   "outputs": [],
   "source": [
    "all_regions=[]\n",
    "all_regions_idx=[]\n",
    "for i,r in df.iterrows():\n",
    "    all_regions_idx.append(i)\n",
    "    all_regions.append(r['ROI'].strip(\"'\"))"
   ]
  },
  {
   "cell_type": "code",
   "execution_count": 5,
   "metadata": {},
   "outputs": [],
   "source": [
    "##modeled data\n",
    "x_mi_all={}\n",
    "x_base_all={}\n",
    "x_rest_all={}\n",
    "\n",
    "for num in range(1, 5):\n",
    "    x_mi_all[num]=np.zeros((68, 10, 19))\n",
    "    x_base_all[num]=np.zeros((68, 10, 19))\n",
    "    x_rest_all[num]=np.zeros((68, 10, 19))\n",
    "    \n",
    "    for i in range(19):\n",
    "        mi_fname = f'../bci_results_apd/bci_results/meg/sess{num}/mi_allsubs_f/mi_nostim_mse_db_fvec330_{i}.p'\n",
    "        with open(mi_fname, 'rb') as f:\n",
    "            x_mi_all[num][:,:,i]=np.array(pkl.load(f))\n",
    "\n",
    "        base_fname = f'../bci_results_apd/bci_results/meg/sess{num}/baseline_allsubs_f/baseline_nostim_mse_db_fvec330_{i}.p'\n",
    "        with open(base_fname, 'rb') as f:\n",
    "            x_base_all[num][:,:,i] = np.array(pkl.load(f))\n",
    "        \n",
    "        rest_fname = f'../bci_results_apd/bci_results/meg/sess{num}/rs1_allsubs_f0/rs1_nostim_mse_db_fvec330_{i}.p'\n",
    "        with open(rest_fname, 'rb') as f:\n",
    "            x_rest_all[num][:,:,i]=np.array(pkl.load(f))"
   ]
  },
  {
   "cell_type": "markdown",
   "metadata": {},
   "source": [
    "### (MI-Rest)/Rest"
   ]
  },
  {
   "cell_type": "code",
   "execution_count": 7,
   "metadata": {},
   "outputs": [],
   "source": [
    "##gei\n",
    "sess1_mi_rest_gei=[[] for _ in range(68)]\n",
    "sess2_mi_rest_gei=[[] for _ in range(68)]\n",
    "sess3_mi_rest_gei=[[] for _ in range(68)]\n",
    "sess4_mi_rest_gei=[[] for _ in range(68)]\n",
    "\n",
    " \n",
    "for k in range(68):\n",
    "  for j in range(19):\n",
    "        mi_rest1_gei=(abs(x_mi_all[1][k,0,j])-abs(x_rest_all[1][k,0,j]))/abs(x_rest_all[1][k,0,j])\n",
    "        sess1_mi_rest_gei[k].append(mi_rest1_gei)\n",
    "\n",
    "        mi_rest2_gei=(abs(x_mi_all[2][k,0,j])-abs(x_rest_all[2][k,0,j]))/abs(x_rest_all[2][k,0,j])\n",
    "        sess2_mi_rest_gei[k].append(mi_rest2_gei)\n",
    "\n",
    "        mi_rest3_gei=(abs(x_mi_all[3][k,0,j])-abs(x_rest_all[3][k,0,j]))/abs(x_rest_all[3][k,0,j])\n",
    "        sess3_mi_rest_gei[k].append(mi_rest3_gei)\n",
    "        \n",
    "        mi_rest4_gei=(abs(x_mi_all[4][k,0,j])-abs(x_rest_all[4][k,0,j]))/abs(x_rest_all[4][k,0,j])\n",
    "        sess4_mi_rest_gei[k].append(mi_rest4_gei)"
   ]
  },
  {
   "cell_type": "code",
   "execution_count": 13,
   "metadata": {},
   "outputs": [],
   "source": [
    "# for i in range(68):\n",
    "#     if len(sess1_mi_rest_gei[i]) != 15:\n",
    "#         print(i)"
   ]
  },
  {
   "cell_type": "code",
   "execution_count": 9,
   "metadata": {},
   "outputs": [
    {
     "name": "stdout",
     "output_type": "stream",
     "text": [
      "Incase of gei, significant regions are---\n",
      "index 9, entorhinal R, FriedmanchisquareResult(statistic=10.005405405405407, pvalue=0.018520243373910412)\n"
     ]
    }
   ],
   "source": [
    "print(\"Incase of gei, significant regions are---\")\n",
    "for i in range(68):\n",
    "    result = friedmanchisquare(sess1_mi_rest_gei[i], sess2_mi_rest_gei[i], sess3_mi_rest_gei[i], sess4_mi_rest_gei[i])\n",
    "    if result[1]<0.05:\n",
    "        for j, reg in enumerate(all_regions):\n",
    "            if i==j:\n",
    "                print(f\"index {i}, {all_regions[j]}, {result}\")\n"
   ]
  },
  {
   "cell_type": "code",
   "execution_count": 10,
   "metadata": {},
   "outputs": [],
   "source": [
    "p_values = []\n",
    "\n",
    "for i in range(68):\n",
    "    result = friedmanchisquare(sess1_mi_rest_gei[i], sess2_mi_rest_gei[i], sess3_mi_rest_gei[i], sess4_mi_rest_gei[i])\n",
    "    p_values.append(result[1])\n",
    "\n",
    "fdr_corrected_pvals = fdrcorrection(p_values)[1]\n",
    "fdr_corr = fdr_corrected_pvals.tolist()\n",
    "\n",
    "for i in range(len(fdr_corr)):\n",
    "    if fdr_corr[i] < 0.1:\n",
    "        print(f\"index {i}, {all_regions[i]}, {fdr_corr[i]}\")"
   ]
  },
  {
   "cell_type": "code",
   "execution_count": 11,
   "metadata": {},
   "outputs": [
    {
     "data": {
      "text/plain": [
       "array([0.78170587, 0.79096724, 0.89161412, 0.84158303, 0.99000992,\n",
       "       0.79995452, 0.79096724, 0.78170587, 0.79096724, 0.78170587,\n",
       "       0.78170587, 0.79995452, 0.78170587, 0.79096724, 0.79096724,\n",
       "       0.79096724, 0.7952096 , 0.79096724, 0.84766076, 0.78170587,\n",
       "       0.85945888, 0.79096724, 0.79096724, 0.84766076, 0.79096724,\n",
       "       0.79096724, 0.9484041 , 0.79096724, 0.99000992, 0.84158303,\n",
       "       0.99000992, 0.99000992, 0.79096724, 0.99000992, 0.99000992,\n",
       "       0.99000992, 0.83623298, 0.79995452, 0.79995452, 0.79096724,\n",
       "       0.99000992, 0.79096724, 0.79995452, 0.78170587, 0.79096724,\n",
       "       0.79096724, 0.79995452, 0.78170587, 0.79995452, 0.84158303,\n",
       "       0.7952096 , 0.79995452, 0.78170587, 0.79995452, 0.79995452,\n",
       "       0.79096724, 0.7952096 , 0.99000992, 0.78170587, 0.78170587,\n",
       "       0.99000992, 0.79096724, 0.79995452, 0.79096724, 0.7952096 ,\n",
       "       0.79096724, 0.79096724, 0.86709746])"
      ]
     },
     "execution_count": 11,
     "metadata": {},
     "output_type": "execute_result"
    }
   ],
   "source": [
    "fdr_corrected_pvals"
   ]
  },
  {
   "cell_type": "code",
   "execution_count": 12,
   "metadata": {},
   "outputs": [],
   "source": [
    "##gii\n",
    "sess1_mi_rest_gii=[[] for _ in range(68)]\n",
    "sess2_mi_rest_gii=[[] for _ in range(68)]\n",
    "sess3_mi_rest_gii=[[] for _ in range(68)]\n",
    "sess4_mi_rest_gii=[[] for _ in range(68)]\n",
    "\n",
    " \n",
    "for k in range(68):\n",
    "    for j in range(19):\n",
    "        mi_rest1_gii=((x_mi_all[1][k,1,j])-(x_rest_all[1][k,1,j]))/(x_rest_all[1][k,1,j])\n",
    "        sess1_mi_rest_gii[k].append(mi_rest1_gii)\n",
    "        mi_rest2_gii=((x_mi_all[2][k,1,j])-(x_rest_all[2][k,1,j]))/(x_rest_all[2][k,1,j])\n",
    "        sess2_mi_rest_gii[k].append(mi_rest2_gii)\n",
    "        mi_rest3_gii=((x_mi_all[3][k,1,j])-(x_rest_all[3][k,1,j]))/(x_rest_all[3][k,1,j])\n",
    "        sess3_mi_rest_gii[k].append(mi_rest3_gii)\n",
    "        mi_rest4_gii=((x_mi_all[4][k,1,j])-(x_rest_all[4][k,1,j]))/(x_rest_all[4][k,1,j])\n",
    "        sess4_mi_rest_gii[k].append(mi_rest4_gii)\n"
   ]
  },
  {
   "cell_type": "code",
   "execution_count": 14,
   "metadata": {},
   "outputs": [],
   "source": [
    "for i in range(68):\n",
    "    result = friedmanchisquare(sess1_mi_rest_gii[i], sess2_mi_rest_gii[i], sess3_mi_rest_gii[i], sess4_mi_rest_gii[i])\n",
    "    # print(result[1])\n",
    "    if result[1]<0.05:\n",
    "        for j, reg in enumerate(all_regions):\n",
    "            if i==j:\n",
    "                print(f\"index {i}, {all_regions[j]}, {result}\")"
   ]
  },
  {
   "cell_type": "code",
   "execution_count": 15,
   "metadata": {},
   "outputs": [],
   "source": [
    "p_values = []\n",
    "\n",
    "for i in range(68):\n",
    "    result = friedmanchisquare(sess1_mi_rest_gii[i], sess2_mi_rest_gii[i], sess3_mi_rest_gii[i], sess4_mi_rest_gii[i])\n",
    "    p_values.append(result[1])\n",
    "\n",
    "fdr_corrected_pvals = fdrcorrection(p_values)[1]\n",
    "fdr_corr = fdr_corrected_pvals.tolist()\n",
    "\n",
    "for i in range(len(fdr_corr)):\n",
    "    if fdr_corr[i] < 0.1:\n",
    "        print(f\"index {i}, {all_regions[i]}, {fdr_corr[i]}\")"
   ]
  },
  {
   "cell_type": "code",
   "execution_count": 16,
   "metadata": {},
   "outputs": [
    {
     "data": {
      "text/plain": [
       "array([0.88784721, 0.88784721, 0.88784721, 0.96128261, 0.88784721,\n",
       "       0.92640112, 0.90196146, 0.90366084, 0.90366084, 0.88784721,\n",
       "       0.88784721, 0.88784721, 0.88784721, 0.88784721, 0.88784721,\n",
       "       0.88784721, 0.88784721, 0.88784721, 0.88784721, 0.88784721,\n",
       "       0.88784721, 0.88784721, 0.88784721, 0.99008941, 0.88784721,\n",
       "       0.88784721, 0.90366084, 0.98162641, 0.88784721, 0.88784721,\n",
       "       0.88784721, 0.95029669, 0.88784721, 0.88784721, 0.88784721,\n",
       "       0.88784721, 0.96855329, 0.99008941, 0.88784721, 0.88784721,\n",
       "       0.99008941, 0.88784721, 0.88784721, 0.95029669, 0.88784721,\n",
       "       0.88784721, 0.88784721, 0.88784721, 0.99008941, 0.93755744,\n",
       "       0.88784721, 0.88784721, 0.88784721, 0.88784721, 0.88784721,\n",
       "       0.88784721, 0.88784721, 0.88784721, 0.88784721, 0.88784721,\n",
       "       0.99008941, 0.88784721, 0.88784721, 0.93788986, 0.88784721,\n",
       "       0.88784721, 0.88784721, 0.88784721])"
      ]
     },
     "execution_count": 16,
     "metadata": {},
     "output_type": "execute_result"
    }
   ],
   "source": [
    "fdr_corrected_pvals"
   ]
  },
  {
   "cell_type": "code",
   "execution_count": 17,
   "metadata": {},
   "outputs": [],
   "source": [
    "##tau_e\n",
    "sess1_mi_rest_tau_e=[[] for _ in range(68)]\n",
    "sess2_mi_rest_tau_e=[[] for _ in range(68)]\n",
    "sess3_mi_rest_tau_e=[[] for _ in range(68)]\n",
    "sess4_mi_rest_tau_e=[[] for _ in range(68)]\n",
    "\n",
    " \n",
    "for k in range(68):\n",
    "    for j in range(19):\n",
    "        mi_rest1_tau_e=((x_mi_all[1][k,2,j])-(x_rest_all[1][k,2,j]))/(x_rest_all[1][k,2,j])\n",
    "        sess1_mi_rest_tau_e[k].append(mi_rest1_tau_e)\n",
    "        mi_rest2_tau_e=((x_mi_all[2][k,2,j])-(x_rest_all[2][k,2,j]))/(x_rest_all[2][k,2,j])\n",
    "        sess2_mi_rest_tau_e[k].append(mi_rest2_tau_e)\n",
    "        mi_rest3_tau_e=((x_mi_all[3][k,2,j])-(x_rest_all[3][k,2,j]))/(x_rest_all[3][k,2,j])\n",
    "        sess3_mi_rest_tau_e[k].append(mi_rest3_tau_e)\n",
    "        mi_rest4_tau_e=((x_mi_all[4][k,2,j])-(x_rest_all[4][k,2,j]))/(x_rest_all[4][k,2,j])\n",
    "        sess4_mi_rest_tau_e[k].append(mi_rest4_tau_e)"
   ]
  },
  {
   "cell_type": "code",
   "execution_count": 19,
   "metadata": {},
   "outputs": [
    {
     "name": "stdout",
     "output_type": "stream",
     "text": [
      "Incase of tau_e, significant regions are---\n",
      "index 17, inferiortemporal R, FriedmanchisquareResult(statistic=7.941176470588244, pvalue=0.047243183430928426)\n",
      "index 31, middletemporal R, FriedmanchisquareResult(statistic=9.609890109890136, pvalue=0.02219059747469413)\n",
      "index 33, paracentral R, FriedmanchisquareResult(statistic=9.634920634920661, pvalue=0.021938513471930935)\n",
      "index 51, precuneus R, FriedmanchisquareResult(statistic=8.460317460317492, pvalue=0.03739727630985676)\n"
     ]
    }
   ],
   "source": [
    "print(\"Incase of tau_e, significant regions are---\")\n",
    "for i in range(68):\n",
    "    result = friedmanchisquare(sess1_mi_rest_tau_e[i], sess2_mi_rest_tau_e[i], sess3_mi_rest_tau_e[i], sess4_mi_rest_tau_e[i])\n",
    "    if result[1]<0.05:\n",
    "        for j, reg in enumerate(all_regions):\n",
    "            if i==j:\n",
    "                print(f\"index {i}, {all_regions[j]}, {result}\")\n"
   ]
  },
  {
   "cell_type": "code",
   "execution_count": 20,
   "metadata": {},
   "outputs": [],
   "source": [
    "p_values = []\n",
    "\n",
    "for i in range(68):\n",
    "    result = friedmanchisquare(sess1_mi_rest_tau_e[i], sess2_mi_rest_tau_e[i], sess3_mi_rest_tau_e[i], sess4_mi_rest_tau_e[i])\n",
    "    p_values.append(result[1])\n",
    "\n",
    "fdr_corrected_pvals = fdrcorrection(p_values)[1]\n",
    "fdr_corr = fdr_corrected_pvals.tolist()\n",
    "\n",
    "for i in range(len(fdr_corr)):\n",
    "    if fdr_corr[i] < 0.1:\n",
    "        print(f\"index {i}, {all_regions[i]}, {fdr_corr[i]}\")"
   ]
  },
  {
   "cell_type": "code",
   "execution_count": 21,
   "metadata": {},
   "outputs": [
    {
     "data": {
      "text/plain": [
       "array([0.94955159, 0.94955159, 0.94955159, 0.94955159, 0.94955159,\n",
       "       0.94955159, 0.94955159, 0.94758322, 0.94955159, 0.94955159,\n",
       "       0.94955159, 0.94955159, 0.94955159, 0.94955159, 0.94955159,\n",
       "       0.94955159, 0.94955159, 0.80313412, 0.94955159, 0.99727545,\n",
       "       0.94955159, 0.94955159, 0.94955159, 0.94955159, 0.97838657,\n",
       "       0.94955159, 0.94955159, 0.94955159, 0.99727545, 0.94955159,\n",
       "       0.94758322, 0.75448031, 0.94955159, 0.75448031, 0.94955159,\n",
       "       0.96368055, 0.99727545, 0.94955159, 0.99727545, 0.97838657,\n",
       "       0.94955159, 0.94955159, 0.94955159, 0.97838657, 0.99727545,\n",
       "       0.94955159, 0.97838657, 0.94955159, 0.94955159, 0.99727545,\n",
       "       0.94955159, 0.80313412, 0.94955159, 0.94955159, 0.94955159,\n",
       "       0.96519277, 0.94955159, 0.97838657, 0.97838657, 0.94955159,\n",
       "       0.94955159, 0.94955159, 0.94955159, 0.94955159, 0.97838657,\n",
       "       0.94758322, 0.94955159, 0.94955159])"
      ]
     },
     "execution_count": 21,
     "metadata": {},
     "output_type": "execute_result"
    }
   ],
   "source": [
    "fdr_corrected_pvals"
   ]
  },
  {
   "cell_type": "code",
   "execution_count": 22,
   "metadata": {},
   "outputs": [],
   "source": [
    "##tau_i\n",
    "sess1_mi_rest_tau_i=[[] for _ in range(68)]\n",
    "sess2_mi_rest_tau_i=[[] for _ in range(68)]\n",
    "sess3_mi_rest_tau_i=[[] for _ in range(68)]\n",
    "sess4_mi_rest_tau_i=[[] for _ in range(68)]\n",
    "\n",
    " \n",
    "\n",
    "for k in range(68):\n",
    "   for j in range(19):\n",
    "        mi_rest1_tau_i=((x_mi_all[1][k,3,j])-(x_rest_all[1][k,3,j]))/(x_rest_all[1][k,3,j])\n",
    "        sess1_mi_rest_tau_i[k].append(mi_rest1_tau_i) \n",
    "        mi_rest2_tau_i=((x_mi_all[2][k,3,j])-(x_rest_all[2][k,3,j]))/(x_rest_all[2][k,3,j])\n",
    "        sess2_mi_rest_tau_i[k].append(mi_rest2_tau_i)\n",
    "        mi_rest3_tau_i=((x_mi_all[3][k,3,j])-(x_rest_all[3][k,3,j]))/(x_rest_all[3][k,3,j])\n",
    "        sess3_mi_rest_tau_i[k].append(mi_rest3_tau_i)\n",
    "        mi_rest4_tau_i=((x_mi_all[4][k,3,j])-(x_rest_all[4][k,3,j]))/(x_rest_all[4][k,3,j])\n",
    "        sess4_mi_rest_tau_i[k].append(mi_rest4_tau_i)"
   ]
  },
  {
   "cell_type": "code",
   "execution_count": 23,
   "metadata": {},
   "outputs": [
    {
     "name": "stdout",
     "output_type": "stream",
     "text": [
      "Incase of tau_i, significant regions are---\n",
      "index 29, medialorbitofrontal R, FriedmanchisquareResult(statistic=10.273743016759788, pvalue=0.016376961969895458)\n",
      "index 34, parahippocampal L, FriedmanchisquareResult(statistic=10.989130434782645, pvalue=0.01178479686193941)\n",
      "index 39, parsorbitalis R, FriedmanchisquareResult(statistic=8.569060773480677, pvalue=0.03560462440657816)\n",
      "index 47, posteriorcingulate R, FriedmanchisquareResult(statistic=8.619047619047628, pvalue=0.03480901812379384)\n",
      "index 52, rostralanteriorcingulate L, FriedmanchisquareResult(statistic=11.317460317460316, pvalue=0.010127459258647662)\n",
      "index 62, supramarginal L, FriedmanchisquareResult(statistic=8.657608695652211, pvalue=0.034207165692828)\n"
     ]
    }
   ],
   "source": [
    "print(\"Incase of tau_i, significant regions are---\")\n",
    "for i in range(68):\n",
    "    result = friedmanchisquare(sess1_mi_rest_tau_i[i], sess2_mi_rest_tau_i[i], sess3_mi_rest_tau_i[i], sess4_mi_rest_tau_i[i])\n",
    "    if result[1]<0.05:\n",
    "        for j, reg in enumerate(all_regions):\n",
    "            if i==j:\n",
    "                print(f\"index {i}, {all_regions[j]}, {result}\")\n"
   ]
  },
  {
   "cell_type": "code",
   "execution_count": 24,
   "metadata": {},
   "outputs": [],
   "source": [
    "p_values = []\n",
    "\n",
    "for i in range(68):\n",
    "    result = friedmanchisquare(sess1_mi_rest_tau_i[i], sess2_mi_rest_tau_i[i], sess3_mi_rest_tau_i[i], sess4_mi_rest_tau_i[i])\n",
    "    p_values.append(result[1])\n",
    "\n",
    "fdr_corrected_pvals = fdrcorrection(p_values)[1]\n",
    "fdr_corr = fdr_corrected_pvals.tolist()\n",
    "\n",
    "for i in range(len(fdr_corr)):\n",
    "    if fdr_corr[i] < 0.1:\n",
    "        print(f\"index {i}, {all_regions[i]}, {fdr_corr[i]}\")"
   ]
  },
  {
   "cell_type": "code",
   "execution_count": 25,
   "metadata": {},
   "outputs": [
    {
     "data": {
      "text/plain": [
       "(array([0.65747904, 0.24958415, 0.39415963, 0.70653784, 0.24738202,\n",
       "        0.52310787, 0.24723686, 0.15142183, 0.74767959, 0.07903731,\n",
       "        0.51661591, 0.37184346, 0.50144638, 0.1706199 , 0.69398814,\n",
       "        0.70828005, 0.73252812, 0.0977558 , 0.59307061, 0.16633893,\n",
       "        0.66162213, 0.05594088, 0.09747375, 0.24910205, 0.77250906,\n",
       "        0.19849066, 0.51983355, 0.71748301, 0.78564619, 0.01637696,\n",
       "        0.48552963, 0.89789984, 0.65357704, 0.7372469 , 0.0117848 ,\n",
       "        0.67672757, 0.48595812, 0.63111213, 0.90879759, 0.03560462,\n",
       "        0.41206243, 0.31831668, 0.94576728, 0.37215561, 0.71578988,\n",
       "        0.97582548, 0.41195021, 0.03480902, 0.26323978, 0.97293544,\n",
       "        0.72592669, 0.45457515, 0.01012746, 0.59273341, 0.75055245,\n",
       "        0.50034665, 0.85416181, 0.60165578, 0.37717315, 0.24000975,\n",
       "        0.98358223, 0.69348221, 0.03420717, 0.14816148, 0.174544  ,\n",
       "        0.10760365, 0.86640668, 0.18035955]),\n",
       " array([0.87995804, 0.73790095, 0.87995804, 0.87995804, 0.73790095,\n",
       "        0.87995804, 0.73790095, 0.72143822, 0.87995804, 0.66473944,\n",
       "        0.87995804, 0.87995804, 0.87995804, 0.72143822, 0.87995804,\n",
       "        0.87995804, 0.87995804, 0.66473944, 0.87995804, 0.72143822,\n",
       "        0.87995804, 0.54342565, 0.66473944, 0.73790095, 0.89034942,\n",
       "        0.73790095, 0.87995804, 0.87995804, 0.89039901, 0.37121114,\n",
       "        0.87995804, 0.96559744, 0.87995804, 0.87995804, 0.37121114,\n",
       "        0.87995804, 0.87995804, 0.87995804, 0.96559744, 0.40351908,\n",
       "        0.87995804, 0.86582136, 0.98358223, 0.87995804, 0.87995804,\n",
       "        0.98358223, 0.87995804, 0.40351908, 0.74584603, 0.98358223,\n",
       "        0.87995804, 0.87995804, 0.37121114, 0.87995804, 0.87995804,\n",
       "        0.87995804, 0.95025249, 0.87995804, 0.87995804, 0.73790095,\n",
       "        0.98358223, 0.87995804, 0.40351908, 0.72143822, 0.72143822,\n",
       "        0.66518618, 0.95025249, 0.72143822]))"
      ]
     },
     "execution_count": 25,
     "metadata": {},
     "output_type": "execute_result"
    }
   ],
   "source": [
    "np.array(p_values),fdr_corrected_pvals"
   ]
  },
  {
   "cell_type": "code",
   "execution_count": null,
   "metadata": {},
   "outputs": [],
   "source": []
  }
 ],
 "metadata": {
  "kernelspec": {
   "display_name": "base",
   "language": "python",
   "name": "python3"
  },
  "language_info": {
   "codemirror_mode": {
    "name": "ipython",
    "version": 3
   },
   "file_extension": ".py",
   "mimetype": "text/x-python",
   "name": "python",
   "nbconvert_exporter": "python",
   "pygments_lexer": "ipython3",
   "version": "3.12.3"
  }
 },
 "nbformat": 4,
 "nbformat_minor": 2
}
